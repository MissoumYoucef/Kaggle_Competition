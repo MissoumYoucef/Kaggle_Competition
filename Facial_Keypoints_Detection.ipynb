{
  "metadata": {
    "colab": {
      "provenance": [],
      "name": "Facial Keypoints Detection",
      "include_colab_link": true
    },
    "kernelspec": {
      "name": "python3",
      "display_name": "Python 3",
      "language": "python"
    },
    "language_info": {
      "name": "python",
      "version": "3.10.13",
      "mimetype": "text/x-python",
      "codemirror_mode": {
        "name": "ipython",
        "version": 3
      },
      "pygments_lexer": "ipython3",
      "nbconvert_exporter": "python",
      "file_extension": ".py"
    },
    "kaggle": {
      "accelerator": "none",
      "dataSources": [
        {
          "sourceId": 3486,
          "databundleVersionId": 31310,
          "sourceType": "competition"
        }
      ],
      "dockerImageVersionId": 30673,
      "isInternetEnabled": true,
      "language": "python",
      "sourceType": "notebook",
      "isGpuEnabled": false
    }
  },
  "nbformat_minor": 0,
  "nbformat": 4,
  "cells": [
    {
      "cell_type": "markdown",
      "metadata": {
        "id": "view-in-github",
        "colab_type": "text"
      },
      "source": [
        "<a href=\"https://colab.research.google.com/github/MissoumYoucef/Kaggle_Competition/blob/main/Facial_Keypoints_Detection.ipynb\" target=\"_parent\"><img src=\"https://colab.research.google.com/assets/colab-badge.svg\" alt=\"Open In Colab\"/></a>"
      ]
    },
    {
      "source": [
        "\n",
        "# IMPORTANT: RUN THIS CELL IN ORDER TO IMPORT YOUR KAGGLE DATA SOURCES\n",
        "# TO THE CORRECT LOCATION (/kaggle/input) IN YOUR NOTEBOOK,\n",
        "# THEN FEEL FREE TO DELETE THIS CELL.\n",
        "# NOTE: THIS NOTEBOOK ENVIRONMENT DIFFERS FROM KAGGLE'S PYTHON\n",
        "# ENVIRONMENT SO THERE MAY BE MISSING LIBRARIES USED BY YOUR\n",
        "# NOTEBOOK.\n",
        "\n",
        "import os\n",
        "import sys\n",
        "from tempfile import NamedTemporaryFile\n",
        "from urllib.request import urlopen\n",
        "from urllib.parse import unquote, urlparse\n",
        "from urllib.error import HTTPError\n",
        "from zipfile import ZipFile\n",
        "import tarfile\n",
        "import shutil\n",
        "\n",
        "CHUNK_SIZE = 40960\n",
        "DATA_SOURCE_MAPPING = 'facial-keypoints-detection:https%3A%2F%2Fstorage.googleapis.com%2Fkaggle-competitions-data%2Fkaggle-v2%2F3486%2F31310%2Fbundle%2Farchive.zip%3FX-Goog-Algorithm%3DGOOG4-RSA-SHA256%26X-Goog-Credential%3Dgcp-kaggle-com%2540kaggle-161607.iam.gserviceaccount.com%252F20240331%252Fauto%252Fstorage%252Fgoog4_request%26X-Goog-Date%3D20240331T200152Z%26X-Goog-Expires%3D259200%26X-Goog-SignedHeaders%3Dhost%26X-Goog-Signature%3D6322bc37c6d45d7967ec5131835b5b95b8aea731dbe881b29ee56d60b9cc8758e104812e89fd478e64f78f9d1d2af6e0ebe0c1b5a2cd85f991653786e07881eef38a1f156c178eda07f8dfb0e1e8d6db814cb04ddce33e49fe4ef9eb5cf6dc146cac11d3329b4e7e81d15ac914b2ef6bf5e4faf3eac550e1405d000c2a5e82cb9cbf9281d87feb0d719a1c5ecc93e304b8de12e1001d582d0294751d0b7b539c6f3f0913e2b5a057a3c6106dd0efb863b611651f75890ac5397febd7b8c915b523de04e3d724093c925f492c37c3837b84c017479021725ca3894cd3702de97a6db3c3fc25e6efc1b96b4ed70e0f9b002c67744b90133a3c9e14c68918d914ab'\n",
        "\n",
        "KAGGLE_INPUT_PATH='/kaggle/input'\n",
        "KAGGLE_WORKING_PATH='/kaggle/working'\n",
        "KAGGLE_SYMLINK='kaggle'\n",
        "\n",
        "!umount /kaggle/input/ 2> /dev/null\n",
        "shutil.rmtree('/kaggle/input', ignore_errors=True)\n",
        "os.makedirs(KAGGLE_INPUT_PATH, 0o777, exist_ok=True)\n",
        "os.makedirs(KAGGLE_WORKING_PATH, 0o777, exist_ok=True)\n",
        "\n",
        "try:\n",
        "  os.symlink(KAGGLE_INPUT_PATH, os.path.join(\"..\", 'input'), target_is_directory=True)\n",
        "except FileExistsError:\n",
        "  pass\n",
        "try:\n",
        "  os.symlink(KAGGLE_WORKING_PATH, os.path.join(\"..\", 'working'), target_is_directory=True)\n",
        "except FileExistsError:\n",
        "  pass\n",
        "\n",
        "for data_source_mapping in DATA_SOURCE_MAPPING.split(','):\n",
        "    directory, download_url_encoded = data_source_mapping.split(':')\n",
        "    download_url = unquote(download_url_encoded)\n",
        "    filename = urlparse(download_url).path\n",
        "    destination_path = os.path.join(KAGGLE_INPUT_PATH, directory)\n",
        "    try:\n",
        "        with urlopen(download_url) as fileres, NamedTemporaryFile() as tfile:\n",
        "            total_length = fileres.headers['content-length']\n",
        "            print(f'Downloading {directory}, {total_length} bytes compressed')\n",
        "            dl = 0\n",
        "            data = fileres.read(CHUNK_SIZE)\n",
        "            while len(data) > 0:\n",
        "                dl += len(data)\n",
        "                tfile.write(data)\n",
        "                done = int(50 * dl / int(total_length))\n",
        "                sys.stdout.write(f\"\\r[{'=' * done}{' ' * (50-done)}] {dl} bytes downloaded\")\n",
        "                sys.stdout.flush()\n",
        "                data = fileres.read(CHUNK_SIZE)\n",
        "            if filename.endswith('.zip'):\n",
        "              with ZipFile(tfile) as zfile:\n",
        "                zfile.extractall(destination_path)\n",
        "            else:\n",
        "              with tarfile.open(tfile.name) as tarfile:\n",
        "                tarfile.extractall(destination_path)\n",
        "            print(f'\\nDownloaded and uncompressed: {directory}')\n",
        "    except HTTPError as e:\n",
        "        print(f'Failed to load (likely expired) {download_url} to path {destination_path}')\n",
        "        continue\n",
        "    except OSError as e:\n",
        "        print(f'Failed to load {download_url} to path {destination_path}')\n",
        "        continue\n",
        "\n",
        "print('Data source import complete.')\n"
      ],
      "metadata": {
        "id": "ATyDscDoGssB"
      },
      "cell_type": "code",
      "outputs": [],
      "execution_count": null
    },
    {
      "cell_type": "code",
      "source": [
        "from keras.layers import Conv2D,Dropout,Dense,Flatten\n",
        "from keras.models import Sequential\n",
        "from keras.layers import LeakyReLU\n",
        "from keras.models import Sequential, Model\n",
        "from keras.layers import Activation, Convolution2D, MaxPooling2D, BatchNormalization, Flatten, Dense, Dropout, Conv2D,MaxPool2D, ZeroPadding2D\n",
        "import numpy as np\n",
        "import pandas as pd\n",
        "from sklearn.model_selection import train_test_split\n",
        "from sklearn.metrics import mean_squared_error"
      ],
      "metadata": {
        "id": "Z7lZb98F6Tp9",
        "execution": {
          "iopub.status.busy": "2024-03-31T05:03:52.720044Z",
          "iopub.execute_input": "2024-03-31T05:03:52.720713Z",
          "iopub.status.idle": "2024-03-31T05:04:11.152346Z",
          "shell.execute_reply.started": "2024-03-31T05:03:52.720678Z",
          "shell.execute_reply": "2024-03-31T05:04:11.150936Z"
        },
        "trusted": true,
        "outputId": "d3c7841d-c619-4547-84c1-f84d77f94804"
      },
      "execution_count": null,
      "outputs": [
        {
          "name": "stderr",
          "text": "2024-03-31 05:03:55.483877: E external/local_xla/xla/stream_executor/cuda/cuda_dnn.cc:9261] Unable to register cuDNN factory: Attempting to register factory for plugin cuDNN when one has already been registered\n2024-03-31 05:03:55.484045: E external/local_xla/xla/stream_executor/cuda/cuda_fft.cc:607] Unable to register cuFFT factory: Attempting to register factory for plugin cuFFT when one has already been registered\n2024-03-31 05:03:55.664067: E external/local_xla/xla/stream_executor/cuda/cuda_blas.cc:1515] Unable to register cuBLAS factory: Attempting to register factory for plugin cuBLAS when one has already been registered\n",
          "output_type": "stream"
        }
      ]
    },
    {
      "cell_type": "code",
      "source": [
        "train_data = pd.read_csv('/kaggle/input/facial-keypoints-detection/training.zip')\n",
        "test_data = pd.read_csv('/kaggle/input/facial-keypoints-detection/test.zip')"
      ],
      "metadata": {
        "id": "tzQ-XE7SJRHs",
        "execution": {
          "iopub.status.busy": "2024-03-31T05:04:11.154472Z",
          "iopub.execute_input": "2024-03-31T05:04:11.155163Z",
          "iopub.status.idle": "2024-03-31T05:04:18.759628Z",
          "shell.execute_reply.started": "2024-03-31T05:04:11.155133Z",
          "shell.execute_reply": "2024-03-31T05:04:18.758483Z"
        },
        "trusted": true
      },
      "execution_count": null,
      "outputs": []
    },
    {
      "cell_type": "code",
      "source": [
        "train_data.shape,test_data.shape"
      ],
      "metadata": {
        "colab": {
          "base_uri": "https://localhost:8080/"
        },
        "id": "ZPJfUv_lJTJ2",
        "outputId": "ee090a5b-1df4-408d-eb3f-60e2f9b34bb6",
        "execution": {
          "iopub.status.busy": "2024-03-31T05:04:18.766342Z",
          "iopub.execute_input": "2024-03-31T05:04:18.766788Z",
          "iopub.status.idle": "2024-03-31T05:04:18.77713Z",
          "shell.execute_reply.started": "2024-03-31T05:04:18.766749Z",
          "shell.execute_reply": "2024-03-31T05:04:18.77595Z"
        },
        "trusted": true
      },
      "execution_count": null,
      "outputs": [
        {
          "execution_count": 3,
          "output_type": "execute_result",
          "data": {
            "text/plain": "((7049, 31), (1783, 2))"
          },
          "metadata": {}
        }
      ]
    },
    {
      "cell_type": "code",
      "source": [
        "# Extract the image data and keypoint coordinates\n",
        "images = train_data['Image'].apply(lambda x: np.array(x.split(' '), dtype=int))"
      ],
      "metadata": {
        "id": "a8APX-7q6OfL",
        "execution": {
          "iopub.status.busy": "2024-03-31T05:04:18.778312Z",
          "iopub.execute_input": "2024-03-31T05:04:18.778659Z",
          "iopub.status.idle": "2024-03-31T05:04:32.942787Z",
          "shell.execute_reply.started": "2024-03-31T05:04:18.77863Z",
          "shell.execute_reply": "2024-03-31T05:04:32.941446Z"
        },
        "trusted": true
      },
      "execution_count": null,
      "outputs": []
    },
    {
      "cell_type": "code",
      "source": [
        "null_counts=train_data.isna().sum()\n",
        "# null_counts"
      ],
      "metadata": {
        "id": "7TU5JDlWQBJw",
        "execution": {
          "iopub.status.busy": "2024-03-31T05:04:32.944653Z",
          "iopub.execute_input": "2024-03-31T05:04:32.94504Z",
          "iopub.status.idle": "2024-03-31T05:04:32.955137Z",
          "shell.execute_reply.started": "2024-03-31T05:04:32.945008Z",
          "shell.execute_reply": "2024-03-31T05:04:32.953143Z"
        },
        "trusted": true
      },
      "execution_count": null,
      "outputs": []
    },
    {
      "cell_type": "code",
      "source": [
        "non_much_Null_values=null_counts.index\n",
        "non_much_Null_values = [col for col in non_much_Null_values if col != 'Image']\n",
        "# non_much_Null_values"
      ],
      "metadata": {
        "id": "FqcVlpCLTvO3",
        "execution": {
          "iopub.status.busy": "2024-03-31T05:04:32.956714Z",
          "iopub.execute_input": "2024-03-31T05:04:32.957624Z",
          "iopub.status.idle": "2024-03-31T05:04:33.00101Z",
          "shell.execute_reply.started": "2024-03-31T05:04:32.957587Z",
          "shell.execute_reply": "2024-03-31T05:04:32.999358Z"
        },
        "trusted": true
      },
      "execution_count": null,
      "outputs": []
    },
    {
      "cell_type": "code",
      "source": [
        "for feature in non_much_Null_values:\n",
        "    median_value = train_data[feature].median()\n",
        "    train_data[feature].fillna(median_value, inplace=True)"
      ],
      "metadata": {
        "id": "FsKtzYDSLfqo",
        "execution": {
          "iopub.status.busy": "2024-03-31T05:04:33.003081Z",
          "iopub.execute_input": "2024-03-31T05:04:33.003561Z",
          "iopub.status.idle": "2024-03-31T05:04:33.041887Z",
          "shell.execute_reply.started": "2024-03-31T05:04:33.003522Z",
          "shell.execute_reply": "2024-03-31T05:04:33.040338Z"
        },
        "trusted": true,
        "outputId": "67a83aa1-c271-4457-a309-90e7f91ade55"
      },
      "execution_count": null,
      "outputs": [
        {
          "name": "stderr",
          "text": "/tmp/ipykernel_33/1613402553.py:3: FutureWarning: A value is trying to be set on a copy of a DataFrame or Series through chained assignment using an inplace method.\nThe behavior will change in pandas 3.0. This inplace method will never work because the intermediate object on which we are setting values always behaves as a copy.\n\nFor example, when doing 'df[col].method(value, inplace=True)', try using 'df.method({col: value}, inplace=True)' or df[col] = df[col].method(value) instead, to perform the operation inplace on the original object.\n\n\n  train_data[feature].fillna(median_value, inplace=True)\n/tmp/ipykernel_33/1613402553.py:3: FutureWarning: A value is trying to be set on a copy of a DataFrame or Series through chained assignment using an inplace method.\nThe behavior will change in pandas 3.0. This inplace method will never work because the intermediate object on which we are setting values always behaves as a copy.\n\nFor example, when doing 'df[col].method(value, inplace=True)', try using 'df.method({col: value}, inplace=True)' or df[col] = df[col].method(value) instead, to perform the operation inplace on the original object.\n\n\n  train_data[feature].fillna(median_value, inplace=True)\n/tmp/ipykernel_33/1613402553.py:3: FutureWarning: A value is trying to be set on a copy of a DataFrame or Series through chained assignment using an inplace method.\nThe behavior will change in pandas 3.0. This inplace method will never work because the intermediate object on which we are setting values always behaves as a copy.\n\nFor example, when doing 'df[col].method(value, inplace=True)', try using 'df.method({col: value}, inplace=True)' or df[col] = df[col].method(value) instead, to perform the operation inplace on the original object.\n\n\n  train_data[feature].fillna(median_value, inplace=True)\n/tmp/ipykernel_33/1613402553.py:3: FutureWarning: A value is trying to be set on a copy of a DataFrame or Series through chained assignment using an inplace method.\nThe behavior will change in pandas 3.0. This inplace method will never work because the intermediate object on which we are setting values always behaves as a copy.\n\nFor example, when doing 'df[col].method(value, inplace=True)', try using 'df.method({col: value}, inplace=True)' or df[col] = df[col].method(value) instead, to perform the operation inplace on the original object.\n\n\n  train_data[feature].fillna(median_value, inplace=True)\n/tmp/ipykernel_33/1613402553.py:3: FutureWarning: A value is trying to be set on a copy of a DataFrame or Series through chained assignment using an inplace method.\nThe behavior will change in pandas 3.0. This inplace method will never work because the intermediate object on which we are setting values always behaves as a copy.\n\nFor example, when doing 'df[col].method(value, inplace=True)', try using 'df.method({col: value}, inplace=True)' or df[col] = df[col].method(value) instead, to perform the operation inplace on the original object.\n\n\n  train_data[feature].fillna(median_value, inplace=True)\n/tmp/ipykernel_33/1613402553.py:3: FutureWarning: A value is trying to be set on a copy of a DataFrame or Series through chained assignment using an inplace method.\nThe behavior will change in pandas 3.0. This inplace method will never work because the intermediate object on which we are setting values always behaves as a copy.\n\nFor example, when doing 'df[col].method(value, inplace=True)', try using 'df.method({col: value}, inplace=True)' or df[col] = df[col].method(value) instead, to perform the operation inplace on the original object.\n\n\n  train_data[feature].fillna(median_value, inplace=True)\n/tmp/ipykernel_33/1613402553.py:3: FutureWarning: A value is trying to be set on a copy of a DataFrame or Series through chained assignment using an inplace method.\nThe behavior will change in pandas 3.0. This inplace method will never work because the intermediate object on which we are setting values always behaves as a copy.\n\nFor example, when doing 'df[col].method(value, inplace=True)', try using 'df.method({col: value}, inplace=True)' or df[col] = df[col].method(value) instead, to perform the operation inplace on the original object.\n\n\n  train_data[feature].fillna(median_value, inplace=True)\n/tmp/ipykernel_33/1613402553.py:3: FutureWarning: A value is trying to be set on a copy of a DataFrame or Series through chained assignment using an inplace method.\nThe behavior will change in pandas 3.0. This inplace method will never work because the intermediate object on which we are setting values always behaves as a copy.\n\nFor example, when doing 'df[col].method(value, inplace=True)', try using 'df.method({col: value}, inplace=True)' or df[col] = df[col].method(value) instead, to perform the operation inplace on the original object.\n\n\n  train_data[feature].fillna(median_value, inplace=True)\n/tmp/ipykernel_33/1613402553.py:3: FutureWarning: A value is trying to be set on a copy of a DataFrame or Series through chained assignment using an inplace method.\nThe behavior will change in pandas 3.0. This inplace method will never work because the intermediate object on which we are setting values always behaves as a copy.\n\nFor example, when doing 'df[col].method(value, inplace=True)', try using 'df.method({col: value}, inplace=True)' or df[col] = df[col].method(value) instead, to perform the operation inplace on the original object.\n\n\n  train_data[feature].fillna(median_value, inplace=True)\n/tmp/ipykernel_33/1613402553.py:3: FutureWarning: A value is trying to be set on a copy of a DataFrame or Series through chained assignment using an inplace method.\nThe behavior will change in pandas 3.0. This inplace method will never work because the intermediate object on which we are setting values always behaves as a copy.\n\nFor example, when doing 'df[col].method(value, inplace=True)', try using 'df.method({col: value}, inplace=True)' or df[col] = df[col].method(value) instead, to perform the operation inplace on the original object.\n\n\n  train_data[feature].fillna(median_value, inplace=True)\n/tmp/ipykernel_33/1613402553.py:3: FutureWarning: A value is trying to be set on a copy of a DataFrame or Series through chained assignment using an inplace method.\nThe behavior will change in pandas 3.0. This inplace method will never work because the intermediate object on which we are setting values always behaves as a copy.\n\nFor example, when doing 'df[col].method(value, inplace=True)', try using 'df.method({col: value}, inplace=True)' or df[col] = df[col].method(value) instead, to perform the operation inplace on the original object.\n\n\n  train_data[feature].fillna(median_value, inplace=True)\n/tmp/ipykernel_33/1613402553.py:3: FutureWarning: A value is trying to be set on a copy of a DataFrame or Series through chained assignment using an inplace method.\nThe behavior will change in pandas 3.0. This inplace method will never work because the intermediate object on which we are setting values always behaves as a copy.\n\nFor example, when doing 'df[col].method(value, inplace=True)', try using 'df.method({col: value}, inplace=True)' or df[col] = df[col].method(value) instead, to perform the operation inplace on the original object.\n\n\n  train_data[feature].fillna(median_value, inplace=True)\n/tmp/ipykernel_33/1613402553.py:3: FutureWarning: A value is trying to be set on a copy of a DataFrame or Series through chained assignment using an inplace method.\nThe behavior will change in pandas 3.0. This inplace method will never work because the intermediate object on which we are setting values always behaves as a copy.\n\nFor example, when doing 'df[col].method(value, inplace=True)', try using 'df.method({col: value}, inplace=True)' or df[col] = df[col].method(value) instead, to perform the operation inplace on the original object.\n\n\n  train_data[feature].fillna(median_value, inplace=True)\n/tmp/ipykernel_33/1613402553.py:3: FutureWarning: A value is trying to be set on a copy of a DataFrame or Series through chained assignment using an inplace method.\nThe behavior will change in pandas 3.0. This inplace method will never work because the intermediate object on which we are setting values always behaves as a copy.\n\nFor example, when doing 'df[col].method(value, inplace=True)', try using 'df.method({col: value}, inplace=True)' or df[col] = df[col].method(value) instead, to perform the operation inplace on the original object.\n\n\n  train_data[feature].fillna(median_value, inplace=True)\n/tmp/ipykernel_33/1613402553.py:3: FutureWarning: A value is trying to be set on a copy of a DataFrame or Series through chained assignment using an inplace method.\nThe behavior will change in pandas 3.0. This inplace method will never work because the intermediate object on which we are setting values always behaves as a copy.\n\nFor example, when doing 'df[col].method(value, inplace=True)', try using 'df.method({col: value}, inplace=True)' or df[col] = df[col].method(value) instead, to perform the operation inplace on the original object.\n\n\n  train_data[feature].fillna(median_value, inplace=True)\n/tmp/ipykernel_33/1613402553.py:3: FutureWarning: A value is trying to be set on a copy of a DataFrame or Series through chained assignment using an inplace method.\nThe behavior will change in pandas 3.0. This inplace method will never work because the intermediate object on which we are setting values always behaves as a copy.\n\nFor example, when doing 'df[col].method(value, inplace=True)', try using 'df.method({col: value}, inplace=True)' or df[col] = df[col].method(value) instead, to perform the operation inplace on the original object.\n\n\n  train_data[feature].fillna(median_value, inplace=True)\n/tmp/ipykernel_33/1613402553.py:3: FutureWarning: A value is trying to be set on a copy of a DataFrame or Series through chained assignment using an inplace method.\nThe behavior will change in pandas 3.0. This inplace method will never work because the intermediate object on which we are setting values always behaves as a copy.\n\nFor example, when doing 'df[col].method(value, inplace=True)', try using 'df.method({col: value}, inplace=True)' or df[col] = df[col].method(value) instead, to perform the operation inplace on the original object.\n\n\n  train_data[feature].fillna(median_value, inplace=True)\n/tmp/ipykernel_33/1613402553.py:3: FutureWarning: A value is trying to be set on a copy of a DataFrame or Series through chained assignment using an inplace method.\nThe behavior will change in pandas 3.0. This inplace method will never work because the intermediate object on which we are setting values always behaves as a copy.\n\nFor example, when doing 'df[col].method(value, inplace=True)', try using 'df.method({col: value}, inplace=True)' or df[col] = df[col].method(value) instead, to perform the operation inplace on the original object.\n\n\n  train_data[feature].fillna(median_value, inplace=True)\n/tmp/ipykernel_33/1613402553.py:3: FutureWarning: A value is trying to be set on a copy of a DataFrame or Series through chained assignment using an inplace method.\nThe behavior will change in pandas 3.0. This inplace method will never work because the intermediate object on which we are setting values always behaves as a copy.\n\nFor example, when doing 'df[col].method(value, inplace=True)', try using 'df.method({col: value}, inplace=True)' or df[col] = df[col].method(value) instead, to perform the operation inplace on the original object.\n\n\n  train_data[feature].fillna(median_value, inplace=True)\n/tmp/ipykernel_33/1613402553.py:3: FutureWarning: A value is trying to be set on a copy of a DataFrame or Series through chained assignment using an inplace method.\nThe behavior will change in pandas 3.0. This inplace method will never work because the intermediate object on which we are setting values always behaves as a copy.\n\nFor example, when doing 'df[col].method(value, inplace=True)', try using 'df.method({col: value}, inplace=True)' or df[col] = df[col].method(value) instead, to perform the operation inplace on the original object.\n\n\n  train_data[feature].fillna(median_value, inplace=True)\n/tmp/ipykernel_33/1613402553.py:3: FutureWarning: A value is trying to be set on a copy of a DataFrame or Series through chained assignment using an inplace method.\nThe behavior will change in pandas 3.0. This inplace method will never work because the intermediate object on which we are setting values always behaves as a copy.\n\nFor example, when doing 'df[col].method(value, inplace=True)', try using 'df.method({col: value}, inplace=True)' or df[col] = df[col].method(value) instead, to perform the operation inplace on the original object.\n\n\n  train_data[feature].fillna(median_value, inplace=True)\n/tmp/ipykernel_33/1613402553.py:3: FutureWarning: A value is trying to be set on a copy of a DataFrame or Series through chained assignment using an inplace method.\nThe behavior will change in pandas 3.0. This inplace method will never work because the intermediate object on which we are setting values always behaves as a copy.\n\nFor example, when doing 'df[col].method(value, inplace=True)', try using 'df.method({col: value}, inplace=True)' or df[col] = df[col].method(value) instead, to perform the operation inplace on the original object.\n\n\n  train_data[feature].fillna(median_value, inplace=True)\n/tmp/ipykernel_33/1613402553.py:3: FutureWarning: A value is trying to be set on a copy of a DataFrame or Series through chained assignment using an inplace method.\nThe behavior will change in pandas 3.0. This inplace method will never work because the intermediate object on which we are setting values always behaves as a copy.\n\nFor example, when doing 'df[col].method(value, inplace=True)', try using 'df.method({col: value}, inplace=True)' or df[col] = df[col].method(value) instead, to perform the operation inplace on the original object.\n\n\n  train_data[feature].fillna(median_value, inplace=True)\n/tmp/ipykernel_33/1613402553.py:3: FutureWarning: A value is trying to be set on a copy of a DataFrame or Series through chained assignment using an inplace method.\nThe behavior will change in pandas 3.0. This inplace method will never work because the intermediate object on which we are setting values always behaves as a copy.\n\nFor example, when doing 'df[col].method(value, inplace=True)', try using 'df.method({col: value}, inplace=True)' or df[col] = df[col].method(value) instead, to perform the operation inplace on the original object.\n\n\n  train_data[feature].fillna(median_value, inplace=True)\n/tmp/ipykernel_33/1613402553.py:3: FutureWarning: A value is trying to be set on a copy of a DataFrame or Series through chained assignment using an inplace method.\nThe behavior will change in pandas 3.0. This inplace method will never work because the intermediate object on which we are setting values always behaves as a copy.\n\nFor example, when doing 'df[col].method(value, inplace=True)', try using 'df.method({col: value}, inplace=True)' or df[col] = df[col].method(value) instead, to perform the operation inplace on the original object.\n\n\n  train_data[feature].fillna(median_value, inplace=True)\n/tmp/ipykernel_33/1613402553.py:3: FutureWarning: A value is trying to be set on a copy of a DataFrame or Series through chained assignment using an inplace method.\nThe behavior will change in pandas 3.0. This inplace method will never work because the intermediate object on which we are setting values always behaves as a copy.\n\nFor example, when doing 'df[col].method(value, inplace=True)', try using 'df.method({col: value}, inplace=True)' or df[col] = df[col].method(value) instead, to perform the operation inplace on the original object.\n\n\n  train_data[feature].fillna(median_value, inplace=True)\n/tmp/ipykernel_33/1613402553.py:3: FutureWarning: A value is trying to be set on a copy of a DataFrame or Series through chained assignment using an inplace method.\nThe behavior will change in pandas 3.0. This inplace method will never work because the intermediate object on which we are setting values always behaves as a copy.\n\nFor example, when doing 'df[col].method(value, inplace=True)', try using 'df.method({col: value}, inplace=True)' or df[col] = df[col].method(value) instead, to perform the operation inplace on the original object.\n\n\n  train_data[feature].fillna(median_value, inplace=True)\n/tmp/ipykernel_33/1613402553.py:3: FutureWarning: A value is trying to be set on a copy of a DataFrame or Series through chained assignment using an inplace method.\nThe behavior will change in pandas 3.0. This inplace method will never work because the intermediate object on which we are setting values always behaves as a copy.\n\nFor example, when doing 'df[col].method(value, inplace=True)', try using 'df.method({col: value}, inplace=True)' or df[col] = df[col].method(value) instead, to perform the operation inplace on the original object.\n\n\n  train_data[feature].fillna(median_value, inplace=True)\n/tmp/ipykernel_33/1613402553.py:3: FutureWarning: A value is trying to be set on a copy of a DataFrame or Series through chained assignment using an inplace method.\nThe behavior will change in pandas 3.0. This inplace method will never work because the intermediate object on which we are setting values always behaves as a copy.\n\nFor example, when doing 'df[col].method(value, inplace=True)', try using 'df.method({col: value}, inplace=True)' or df[col] = df[col].method(value) instead, to perform the operation inplace on the original object.\n\n\n  train_data[feature].fillna(median_value, inplace=True)\n/tmp/ipykernel_33/1613402553.py:3: FutureWarning: A value is trying to be set on a copy of a DataFrame or Series through chained assignment using an inplace method.\nThe behavior will change in pandas 3.0. This inplace method will never work because the intermediate object on which we are setting values always behaves as a copy.\n\nFor example, when doing 'df[col].method(value, inplace=True)', try using 'df.method({col: value}, inplace=True)' or df[col] = df[col].method(value) instead, to perform the operation inplace on the original object.\n\n\n  train_data[feature].fillna(median_value, inplace=True)\n",
          "output_type": "stream"
        }
      ]
    },
    {
      "cell_type": "code",
      "source": [
        "keypoints = train_data.drop('Image', axis=1)"
      ],
      "metadata": {
        "id": "vVBZ3osyV9bM",
        "execution": {
          "iopub.status.busy": "2024-03-31T05:04:33.043742Z",
          "iopub.execute_input": "2024-03-31T05:04:33.044144Z",
          "iopub.status.idle": "2024-03-31T05:04:33.059807Z",
          "shell.execute_reply.started": "2024-03-31T05:04:33.044104Z",
          "shell.execute_reply": "2024-03-31T05:04:33.058311Z"
        },
        "trusted": true
      },
      "execution_count": null,
      "outputs": []
    },
    {
      "cell_type": "code",
      "source": [
        "X_train, X_val, y_train, y_val = train_test_split(images, keypoints, test_size=0.2, random_state=42)"
      ],
      "metadata": {
        "id": "boQUiIqlM0vn",
        "execution": {
          "iopub.status.busy": "2024-03-31T05:04:33.065207Z",
          "iopub.execute_input": "2024-03-31T05:04:33.065703Z",
          "iopub.status.idle": "2024-03-31T05:04:33.083905Z",
          "shell.execute_reply.started": "2024-03-31T05:04:33.065666Z",
          "shell.execute_reply": "2024-03-31T05:04:33.082095Z"
        },
        "trusted": true
      },
      "execution_count": null,
      "outputs": []
    },
    {
      "cell_type": "code",
      "source": [
        "# Reshape the image data\n",
        "X_train = np.array([x.reshape(96, 96, 1) for x in X_train])\n",
        "X_val = np.array([x.reshape(96, 96, 1) for x in X_val])"
      ],
      "metadata": {
        "id": "mi4KWeeJ6Rx2",
        "execution": {
          "iopub.status.busy": "2024-03-31T05:04:33.086867Z",
          "iopub.execute_input": "2024-03-31T05:04:33.087483Z",
          "iopub.status.idle": "2024-03-31T05:04:33.902933Z",
          "shell.execute_reply.started": "2024-03-31T05:04:33.087378Z",
          "shell.execute_reply": "2024-03-31T05:04:33.901849Z"
        },
        "trusted": true
      },
      "execution_count": null,
      "outputs": []
    },
    {
      "cell_type": "code",
      "source": [
        "X_train.shape"
      ],
      "metadata": {
        "id": "U9utdUVml2cc",
        "execution": {
          "iopub.status.busy": "2024-03-31T05:04:33.904596Z",
          "iopub.execute_input": "2024-03-31T05:04:33.90492Z",
          "iopub.status.idle": "2024-03-31T05:04:33.912033Z",
          "shell.execute_reply.started": "2024-03-31T05:04:33.904891Z",
          "shell.execute_reply": "2024-03-31T05:04:33.910637Z"
        },
        "trusted": true,
        "outputId": "225d102f-9e0a-4e19-88f9-5de6f5fa00b1"
      },
      "execution_count": null,
      "outputs": [
        {
          "execution_count": 11,
          "output_type": "execute_result",
          "data": {
            "text/plain": "(5639, 96, 96, 1)"
          },
          "metadata": {}
        }
      ]
    },
    {
      "cell_type": "code",
      "source": [
        "import tensorflow as tf\n",
        "tf_tensor = tf.convert_to_tensor(X_train, dtype=tf.float32)\n",
        "# Assuming X_train is your grayscale image dataset with shape (num_images, 96, 96, 1)\n",
        "X_train_rgb = tf.image.grayscale_to_rgb(tf_tensor)"
      ],
      "metadata": {
        "id": "2T6vCEf6i_Jj",
        "execution": {
          "iopub.status.busy": "2024-03-31T05:04:33.913541Z",
          "iopub.execute_input": "2024-03-31T05:04:33.913873Z",
          "iopub.status.idle": "2024-03-31T05:04:35.545113Z",
          "shell.execute_reply.started": "2024-03-31T05:04:33.913843Z",
          "shell.execute_reply": "2024-03-31T05:04:35.543788Z"
        },
        "trusted": true
      },
      "execution_count": null,
      "outputs": []
    },
    {
      "cell_type": "code",
      "source": [
        "X_train_rgb.shape"
      ],
      "metadata": {
        "id": "g68Fd0BLk6RV",
        "execution": {
          "iopub.status.busy": "2024-03-31T05:04:35.546589Z",
          "iopub.execute_input": "2024-03-31T05:04:35.546969Z",
          "iopub.status.idle": "2024-03-31T05:04:35.555234Z",
          "shell.execute_reply.started": "2024-03-31T05:04:35.546941Z",
          "shell.execute_reply": "2024-03-31T05:04:35.553935Z"
        },
        "trusted": true,
        "outputId": "34b6bac9-e6a5-432b-ffaf-61541604427e"
      },
      "execution_count": null,
      "outputs": [
        {
          "execution_count": 13,
          "output_type": "execute_result",
          "data": {
            "text/plain": "TensorShape([5639, 96, 96, 3])"
          },
          "metadata": {}
        }
      ]
    },
    {
      "cell_type": "code",
      "source": [
        "import tensorflow as tf\n",
        "from tensorflow.keras import layers, models\n",
        "from tensorflow.keras.applications import EfficientNetV2S,ResNet50\n",
        "from tensorflow.keras.preprocessing.image import ImageDataGenerator\n",
        "import numpy as np"
      ],
      "metadata": {
        "id": "PAFNxIAE2lHD",
        "execution": {
          "iopub.status.busy": "2024-03-31T05:04:35.556336Z",
          "iopub.execute_input": "2024-03-31T05:04:35.556837Z",
          "iopub.status.idle": "2024-03-31T05:04:35.600232Z",
          "shell.execute_reply.started": "2024-03-31T05:04:35.556809Z",
          "shell.execute_reply": "2024-03-31T05:04:35.598519Z"
        },
        "trusted": true
      },
      "execution_count": null,
      "outputs": []
    },
    {
      "cell_type": "code",
      "source": [
        "# base_model = EfficientNetV2S(weights='imagenet', include_top=False, input_shape=(96, 96, 3))\n",
        "# base_model.trainable = False  # Freeze the base model"
      ],
      "metadata": {
        "id": "Boj1hRMP237R",
        "execution": {
          "iopub.status.busy": "2024-03-31T05:04:35.602546Z",
          "iopub.execute_input": "2024-03-31T05:04:35.603193Z",
          "iopub.status.idle": "2024-03-31T05:04:35.608379Z",
          "shell.execute_reply.started": "2024-03-31T05:04:35.603149Z",
          "shell.execute_reply": "2024-03-31T05:04:35.60742Z"
        },
        "trusted": true
      },
      "execution_count": null,
      "outputs": []
    },
    {
      "cell_type": "code",
      "source": [
        "from tensorflow.keras.applications import ResNet50, EfficientNetB4, MobileNetV3Large"
      ],
      "metadata": {
        "execution": {
          "iopub.status.busy": "2024-03-31T05:05:11.551289Z",
          "iopub.execute_input": "2024-03-31T05:05:11.551803Z",
          "iopub.status.idle": "2024-03-31T05:05:11.559604Z",
          "shell.execute_reply.started": "2024-03-31T05:05:11.551769Z",
          "shell.execute_reply": "2024-03-31T05:05:11.557501Z"
        },
        "trusted": true,
        "id": "yvPnuMpEGss5"
      },
      "execution_count": null,
      "outputs": []
    },
    {
      "cell_type": "code",
      "source": [
        "from transformers import ViTFeatureExtractor, TFViTForImageClassification\n",
        "from tensorflow.keras.models import Sequential\n",
        "from tensorflow.keras.layers import Dense\n",
        "\n",
        "# Load pretrained ViT feature extractor and model\n",
        "feature_extractor = ViTFeatureExtractor.from_pretrained('google/vit-base-patch16-224')\n",
        "# # vit_model = TFViTForImageClassification.from_pretrained('google/vit-base-patch16-224')\n",
        "feature_extractor.trainable = False\n",
        "# # Freeze the base ViT model\n",
        "# vit_model.trainable = False"
      ],
      "metadata": {
        "execution": {
          "iopub.status.busy": "2024-03-31T05:54:51.809661Z",
          "iopub.execute_input": "2024-03-31T05:54:51.810107Z",
          "iopub.status.idle": "2024-03-31T05:54:51.904214Z",
          "shell.execute_reply.started": "2024-03-31T05:54:51.810077Z",
          "shell.execute_reply": "2024-03-31T05:54:51.903032Z"
        },
        "trusted": true,
        "id": "cI9A3AHqGss6"
      },
      "execution_count": null,
      "outputs": []
    },
    {
      "cell_type": "code",
      "source": [
        "# Load ViT model\n",
        "efficientnet_model = EfficientNetB4(weights='imagenet', include_top=False, input_shape=(96, 96, 3))\n",
        "for layer in efficientnet_model.layers:\n",
        "    layer.trainable = False"
      ],
      "metadata": {
        "execution": {
          "iopub.status.busy": "2024-03-31T05:20:50.058754Z",
          "iopub.execute_input": "2024-03-31T05:20:50.06012Z",
          "iopub.status.idle": "2024-03-31T05:20:53.165794Z",
          "shell.execute_reply.started": "2024-03-31T05:20:50.060058Z",
          "shell.execute_reply": "2024-03-31T05:20:53.164252Z"
        },
        "trusted": true,
        "id": "qT2-prqCGss6"
      },
      "execution_count": null,
      "outputs": []
    },
    {
      "cell_type": "code",
      "source": [
        "resnext_model = ResNet50(weights='imagenet', include_top=False, input_shape=(96, 96, 3))\n",
        "for layer in resnext_model.layers:\n",
        "    layer.trainable = False"
      ],
      "metadata": {
        "execution": {
          "iopub.status.busy": "2024-03-31T05:05:24.274826Z",
          "iopub.execute_input": "2024-03-31T05:05:24.275674Z",
          "iopub.status.idle": "2024-03-31T05:05:27.26633Z",
          "shell.execute_reply.started": "2024-03-31T05:05:24.275621Z",
          "shell.execute_reply": "2024-03-31T05:05:27.265017Z"
        },
        "trusted": true,
        "id": "7EXhFuDDGss7",
        "outputId": "ded80dc9-a7d0-4e59-aab9-5672042f2730"
      },
      "execution_count": null,
      "outputs": [
        {
          "name": "stdout",
          "text": "Downloading data from https://storage.googleapis.com/tensorflow/keras-applications/resnet/resnet50_weights_tf_dim_ordering_tf_kernels_notop.h5\n\u001b[1m94765736/94765736\u001b[0m \u001b[32m━━━━━━━━━━━━━━━━━━━━\u001b[0m\u001b[37m\u001b[0m \u001b[1m1s\u001b[0m 0us/step\n",
          "output_type": "stream"
        }
      ]
    },
    {
      "cell_type": "code",
      "source": [
        "def trainfun(model):\n",
        "    model = models.Sequential([\n",
        "        model,\n",
        "        layers.GlobalAveragePooling2D(),\n",
        "        layers.Dense(512, activation='relu'),\n",
        "        layers.Dropout(0.1),\n",
        "        layers.Dense(30)  # Assuming a binary classification problem\n",
        "    ])\n",
        "    model.compile(optimizer='adam',\n",
        "              loss='mean_squared_error',\n",
        "              metrics=['mae'])\n",
        "    return model"
      ],
      "metadata": {
        "id": "cuupuRDN29AV",
        "execution": {
          "iopub.status.busy": "2024-03-31T05:06:27.295684Z",
          "iopub.execute_input": "2024-03-31T05:06:27.296226Z",
          "iopub.status.idle": "2024-03-31T05:06:27.303929Z",
          "shell.execute_reply.started": "2024-03-31T05:06:27.296187Z",
          "shell.execute_reply": "2024-03-31T05:06:27.302736Z"
        },
        "trusted": true
      },
      "execution_count": null,
      "outputs": []
    },
    {
      "cell_type": "code",
      "source": [
        "model=trainfun(feature_extractor)\n",
        "model.fit(X_train_rgb,y_train,epochs =5,batch_size = 256,validation_split = 0.2)"
      ],
      "metadata": {
        "execution": {
          "iopub.status.busy": "2024-03-31T05:56:24.460968Z",
          "iopub.execute_input": "2024-03-31T05:56:24.461557Z",
          "iopub.status.idle": "2024-03-31T05:56:24.636856Z",
          "shell.execute_reply.started": "2024-03-31T05:56:24.46152Z",
          "shell.execute_reply": "2024-03-31T05:56:24.6349Z"
        },
        "trusted": true,
        "id": "ocUQsl67Gss8",
        "outputId": "63026323-416b-443b-f731-7955b994c35c"
      },
      "execution_count": null,
      "outputs": [
        {
          "traceback": [
            "\u001b[0;31m---------------------------------------------------------------------------\u001b[0m",
            "\u001b[0;31mValueError\u001b[0m                                Traceback (most recent call last)",
            "Cell \u001b[0;32mIn[57], line 1\u001b[0m\n\u001b[0;32m----> 1\u001b[0m model\u001b[38;5;241m=\u001b[39m\u001b[43mtrainfun\u001b[49m\u001b[43m(\u001b[49m\u001b[43mfeature_extractor\u001b[49m\u001b[43m)\u001b[49m\n\u001b[1;32m      2\u001b[0m model\u001b[38;5;241m.\u001b[39mfit(X_train_rgb,y_train,epochs \u001b[38;5;241m=\u001b[39m\u001b[38;5;241m5\u001b[39m,batch_size \u001b[38;5;241m=\u001b[39m \u001b[38;5;241m256\u001b[39m,validation_split \u001b[38;5;241m=\u001b[39m \u001b[38;5;241m0.2\u001b[39m)\n",
            "Cell \u001b[0;32mIn[22], line 2\u001b[0m, in \u001b[0;36mtrainfun\u001b[0;34m(model)\u001b[0m\n\u001b[1;32m      1\u001b[0m \u001b[38;5;28;01mdef\u001b[39;00m \u001b[38;5;21mtrainfun\u001b[39m(model):   \n\u001b[0;32m----> 2\u001b[0m     model \u001b[38;5;241m=\u001b[39m \u001b[43mmodels\u001b[49m\u001b[38;5;241;43m.\u001b[39;49m\u001b[43mSequential\u001b[49m\u001b[43m(\u001b[49m\u001b[43m[\u001b[49m\n\u001b[1;32m      3\u001b[0m \u001b[43m        \u001b[49m\u001b[43mmodel\u001b[49m\u001b[43m,\u001b[49m\n\u001b[1;32m      4\u001b[0m \u001b[43m        \u001b[49m\u001b[43mlayers\u001b[49m\u001b[38;5;241;43m.\u001b[39;49m\u001b[43mGlobalAveragePooling2D\u001b[49m\u001b[43m(\u001b[49m\u001b[43m)\u001b[49m\u001b[43m,\u001b[49m\n\u001b[1;32m      5\u001b[0m \u001b[43m        \u001b[49m\u001b[43mlayers\u001b[49m\u001b[38;5;241;43m.\u001b[39;49m\u001b[43mDense\u001b[49m\u001b[43m(\u001b[49m\u001b[38;5;241;43m512\u001b[39;49m\u001b[43m,\u001b[49m\u001b[43m \u001b[49m\u001b[43mactivation\u001b[49m\u001b[38;5;241;43m=\u001b[39;49m\u001b[38;5;124;43m'\u001b[39;49m\u001b[38;5;124;43mrelu\u001b[39;49m\u001b[38;5;124;43m'\u001b[39;49m\u001b[43m)\u001b[49m\u001b[43m,\u001b[49m\n\u001b[1;32m      6\u001b[0m \u001b[43m        \u001b[49m\u001b[43mlayers\u001b[49m\u001b[38;5;241;43m.\u001b[39;49m\u001b[43mDropout\u001b[49m\u001b[43m(\u001b[49m\u001b[38;5;241;43m0.1\u001b[39;49m\u001b[43m)\u001b[49m\u001b[43m,\u001b[49m\n\u001b[1;32m      7\u001b[0m \u001b[43m        \u001b[49m\u001b[43mlayers\u001b[49m\u001b[38;5;241;43m.\u001b[39;49m\u001b[43mDense\u001b[49m\u001b[43m(\u001b[49m\u001b[38;5;241;43m30\u001b[39;49m\u001b[43m)\u001b[49m\u001b[43m  \u001b[49m\u001b[38;5;66;43;03m# Assuming a binary classification problem\u001b[39;49;00m\n\u001b[1;32m      8\u001b[0m \u001b[43m    \u001b[49m\u001b[43m]\u001b[49m\u001b[43m)\u001b[49m\n\u001b[1;32m      9\u001b[0m     model\u001b[38;5;241m.\u001b[39mcompile(optimizer\u001b[38;5;241m=\u001b[39m\u001b[38;5;124m'\u001b[39m\u001b[38;5;124madam\u001b[39m\u001b[38;5;124m'\u001b[39m,\n\u001b[1;32m     10\u001b[0m               loss\u001b[38;5;241m=\u001b[39m\u001b[38;5;124m'\u001b[39m\u001b[38;5;124mmean_squared_error\u001b[39m\u001b[38;5;124m'\u001b[39m,\n\u001b[1;32m     11\u001b[0m               metrics\u001b[38;5;241m=\u001b[39m[\u001b[38;5;124m'\u001b[39m\u001b[38;5;124mmae\u001b[39m\u001b[38;5;124m'\u001b[39m])\n\u001b[1;32m     12\u001b[0m     \u001b[38;5;28;01mreturn\u001b[39;00m model\n",
            "File \u001b[0;32m/opt/conda/lib/python3.10/site-packages/keras/src/models/sequential.py:70\u001b[0m, in \u001b[0;36mSequential.__init__\u001b[0;34m(self, layers, trainable, name)\u001b[0m\n\u001b[1;32m     68\u001b[0m \u001b[38;5;28;01mif\u001b[39;00m layers:\n\u001b[1;32m     69\u001b[0m     \u001b[38;5;28;01mfor\u001b[39;00m layer \u001b[38;5;129;01min\u001b[39;00m layers:\n\u001b[0;32m---> 70\u001b[0m         \u001b[38;5;28;43mself\u001b[39;49m\u001b[38;5;241;43m.\u001b[39;49m\u001b[43madd\u001b[49m\u001b[43m(\u001b[49m\u001b[43mlayer\u001b[49m\u001b[43m,\u001b[49m\u001b[43m \u001b[49m\u001b[43mrebuild\u001b[49m\u001b[38;5;241;43m=\u001b[39;49m\u001b[38;5;28;43;01mFalse\u001b[39;49;00m\u001b[43m)\u001b[49m\n\u001b[1;32m     71\u001b[0m     \u001b[38;5;28mself\u001b[39m\u001b[38;5;241m.\u001b[39m_maybe_rebuild()\n",
            "File \u001b[0;32m/opt/conda/lib/python3.10/site-packages/keras/src/models/sequential.py:92\u001b[0m, in \u001b[0;36mSequential.add\u001b[0;34m(self, layer, rebuild)\u001b[0m\n\u001b[1;32m     90\u001b[0m         layer \u001b[38;5;241m=\u001b[39m origin_layer\n\u001b[1;32m     91\u001b[0m \u001b[38;5;28;01mif\u001b[39;00m \u001b[38;5;129;01mnot\u001b[39;00m \u001b[38;5;28misinstance\u001b[39m(layer, Layer):\n\u001b[0;32m---> 92\u001b[0m     \u001b[38;5;28;01mraise\u001b[39;00m \u001b[38;5;167;01mValueError\u001b[39;00m(\n\u001b[1;32m     93\u001b[0m         \u001b[38;5;124m\"\u001b[39m\u001b[38;5;124mOnly instances of `keras.Layer` can be \u001b[39m\u001b[38;5;124m\"\u001b[39m\n\u001b[1;32m     94\u001b[0m         \u001b[38;5;124mf\u001b[39m\u001b[38;5;124m\"\u001b[39m\u001b[38;5;124madded to a Sequential model. Received: \u001b[39m\u001b[38;5;132;01m{\u001b[39;00mlayer\u001b[38;5;132;01m}\u001b[39;00m\u001b[38;5;124m \u001b[39m\u001b[38;5;124m\"\u001b[39m\n\u001b[1;32m     95\u001b[0m         \u001b[38;5;124mf\u001b[39m\u001b[38;5;124m\"\u001b[39m\u001b[38;5;124m(of type \u001b[39m\u001b[38;5;132;01m{\u001b[39;00m\u001b[38;5;28mtype\u001b[39m(layer)\u001b[38;5;132;01m}\u001b[39;00m\u001b[38;5;124m)\u001b[39m\u001b[38;5;124m\"\u001b[39m\n\u001b[1;32m     96\u001b[0m     )\n\u001b[1;32m     97\u001b[0m \u001b[38;5;28;01mif\u001b[39;00m \u001b[38;5;129;01mnot\u001b[39;00m \u001b[38;5;28mself\u001b[39m\u001b[38;5;241m.\u001b[39m_is_layer_name_unique(layer):\n\u001b[1;32m     98\u001b[0m     \u001b[38;5;28;01mraise\u001b[39;00m \u001b[38;5;167;01mValueError\u001b[39;00m(\n\u001b[1;32m     99\u001b[0m         \u001b[38;5;124m\"\u001b[39m\u001b[38;5;124mAll layers added to a Sequential model \u001b[39m\u001b[38;5;124m\"\u001b[39m\n\u001b[1;32m    100\u001b[0m         \u001b[38;5;124mf\u001b[39m\u001b[38;5;124m\"\u001b[39m\u001b[38;5;124mshould have unique names. Name \u001b[39m\u001b[38;5;124m'\u001b[39m\u001b[38;5;132;01m{\u001b[39;00mlayer\u001b[38;5;241m.\u001b[39mname\u001b[38;5;132;01m}\u001b[39;00m\u001b[38;5;124m'\u001b[39m\u001b[38;5;124m is already \u001b[39m\u001b[38;5;124m\"\u001b[39m\n\u001b[1;32m    101\u001b[0m         \u001b[38;5;124m\"\u001b[39m\u001b[38;5;124mthe name of a layer in this model. Update the `name` argument \u001b[39m\u001b[38;5;124m\"\u001b[39m\n\u001b[1;32m    102\u001b[0m         \u001b[38;5;124m\"\u001b[39m\u001b[38;5;124mto pass a unique name.\u001b[39m\u001b[38;5;124m\"\u001b[39m\n\u001b[1;32m    103\u001b[0m     )\n",
            "\u001b[0;31mValueError\u001b[0m: Only instances of `keras.Layer` can be added to a Sequential model. Received: ViTFeatureExtractor {\n  \"do_normalize\": true,\n  \"do_rescale\": true,\n  \"do_resize\": true,\n  \"image_mean\": [\n    0.5,\n    0.5,\n    0.5\n  ],\n  \"image_processor_type\": \"ViTFeatureExtractor\",\n  \"image_std\": [\n    0.5,\n    0.5,\n    0.5\n  ],\n  \"resample\": 2,\n  \"rescale_factor\": 0.00392156862745098,\n  \"size\": {\n    \"height\": 224,\n    \"width\": 224\n  },\n  \"trainable\": false\n}\n (of type <class 'transformers.models.vit.feature_extraction_vit.ViTFeatureExtractor'>)"
          ],
          "ename": "ValueError",
          "evalue": "Only instances of `keras.Layer` can be added to a Sequential model. Received: ViTFeatureExtractor {\n  \"do_normalize\": true,\n  \"do_rescale\": true,\n  \"do_resize\": true,\n  \"image_mean\": [\n    0.5,\n    0.5,\n    0.5\n  ],\n  \"image_processor_type\": \"ViTFeatureExtractor\",\n  \"image_std\": [\n    0.5,\n    0.5,\n    0.5\n  ],\n  \"resample\": 2,\n  \"rescale_factor\": 0.00392156862745098,\n  \"size\": {\n    \"height\": 224,\n    \"width\": 224\n  },\n  \"trainable\": false\n}\n (of type <class 'transformers.models.vit.feature_extraction_vit.ViTFeatureExtractor'>)",
          "output_type": "error"
        }
      ]
    },
    {
      "cell_type": "code",
      "source": [
        "model=trainfun(resnext_model)\n",
        "model.fit(X_train_rgb,y_train,epochs =5,batch_size = 256,validation_split = 0.2)"
      ],
      "metadata": {
        "id": "oNWSdfOxa2DS",
        "execution": {
          "iopub.status.busy": "2024-03-31T05:06:34.95366Z",
          "iopub.execute_input": "2024-03-31T05:06:34.954214Z",
          "iopub.status.idle": "2024-03-31T05:17:43.958378Z",
          "shell.execute_reply.started": "2024-03-31T05:06:34.95417Z",
          "shell.execute_reply": "2024-03-31T05:17:43.956576Z"
        },
        "trusted": true,
        "outputId": "68342b56-577b-4d80-f8fd-46051fb1c31a"
      },
      "execution_count": null,
      "outputs": [
        {
          "name": "stdout",
          "text": "Epoch 1/5\n\u001b[1m18/18\u001b[0m \u001b[32m━━━━━━━━━━━━━━━━━━━━\u001b[0m\u001b[37m\u001b[0m \u001b[1m103s\u001b[0m 5s/step - loss: 1543.6975 - mae: 33.5313 - val_loss: 220.3893 - val_mae: 10.1959\nEpoch 2/5\n\u001b[1m18/18\u001b[0m \u001b[32m━━━━━━━━━━━━━━━━━━━━\u001b[0m\u001b[37m\u001b[0m \u001b[1m139s\u001b[0m 5s/step - loss: 177.8687 - mae: 10.1276 - val_loss: 71.6242 - val_mae: 6.6209\nEpoch 3/5\n\u001b[1m18/18\u001b[0m \u001b[32m━━━━━━━━━━━━━━━━━━━━\u001b[0m\u001b[37m\u001b[0m \u001b[1m90s\u001b[0m 5s/step - loss: 81.9135 - mae: 6.9807 - val_loss: 41.5404 - val_mae: 4.8658\nEpoch 4/5\n\u001b[1m18/18\u001b[0m \u001b[32m━━━━━━━━━━━━━━━━━━━━\u001b[0m\u001b[37m\u001b[0m \u001b[1m142s\u001b[0m 5s/step - loss: 55.4235 - mae: 5.6732 - val_loss: 29.9716 - val_mae: 3.9950\nEpoch 5/5\n\u001b[1m18/18\u001b[0m \u001b[32m━━━━━━━━━━━━━━━━━━━━\u001b[0m\u001b[37m\u001b[0m \u001b[1m141s\u001b[0m 5s/step - loss: 44.6103 - mae: 5.0708 - val_loss: 25.4757 - val_mae: 3.6516\n",
          "output_type": "stream"
        },
        {
          "execution_count": 23,
          "output_type": "execute_result",
          "data": {
            "text/plain": "<keras.src.callbacks.history.History at 0x7aa75574a650>"
          },
          "metadata": {}
        }
      ]
    },
    {
      "cell_type": "code",
      "source": [
        "model2=trainfun(efficientnet_model)\n",
        "model2.fit(X_train_rgb,y_train,epochs =5,batch_size = 256,validation_split = 0.2)"
      ],
      "metadata": {
        "execution": {
          "iopub.status.busy": "2024-03-31T05:21:02.17616Z",
          "iopub.execute_input": "2024-03-31T05:21:02.176609Z",
          "iopub.status.idle": "2024-03-31T05:32:35.315597Z",
          "shell.execute_reply.started": "2024-03-31T05:21:02.176577Z",
          "shell.execute_reply": "2024-03-31T05:32:35.314255Z"
        },
        "trusted": true,
        "id": "hYxoeonsGss_",
        "outputId": "0a57296e-eec3-4eff-d8e9-ed236e645e54"
      },
      "execution_count": null,
      "outputs": [
        {
          "name": "stdout",
          "text": "Epoch 1/5\n\u001b[1m18/18\u001b[0m \u001b[32m━━━━━━━━━━━━━━━━━━━━\u001b[0m\u001b[37m\u001b[0m \u001b[1m151s\u001b[0m 7s/step - loss: 2154.3564 - mae: 42.3321 - val_loss: 390.4900 - val_mae: 15.4422\nEpoch 2/5\n\u001b[1m18/18\u001b[0m \u001b[32m━━━━━━━━━━━━━━━━━━━━\u001b[0m\u001b[37m\u001b[0m \u001b[1m135s\u001b[0m 7s/step - loss: 271.0721 - mae: 13.0111 - val_loss: 114.3324 - val_mae: 8.2508\nEpoch 3/5\n\u001b[1m18/18\u001b[0m \u001b[32m━━━━━━━━━━━━━━━━━━━━\u001b[0m\u001b[37m\u001b[0m \u001b[1m142s\u001b[0m 7s/step - loss: 93.6041 - mae: 7.4725 - val_loss: 50.3487 - val_mae: 5.0173\nEpoch 4/5\n\u001b[1m18/18\u001b[0m \u001b[32m━━━━━━━━━━━━━━━━━━━━\u001b[0m\u001b[37m\u001b[0m \u001b[1m118s\u001b[0m 7s/step - loss: 55.6354 - mae: 5.3509 - val_loss: 37.5856 - val_mae: 4.2466\nEpoch 5/5\n\u001b[1m18/18\u001b[0m \u001b[32m━━━━━━━━━━━━━━━━━━━━\u001b[0m\u001b[37m\u001b[0m \u001b[1m146s\u001b[0m 7s/step - loss: 44.4986 - mae: 4.6798 - val_loss: 30.1366 - val_mae: 3.8387\n",
          "output_type": "stream"
        },
        {
          "execution_count": 27,
          "output_type": "execute_result",
          "data": {
            "text/plain": "<keras.src.callbacks.history.History at 0x7aa753f5e2c0>"
          },
          "metadata": {}
        }
      ]
    },
    {
      "cell_type": "code",
      "source": [
        "#preparing test data\n",
        "timag = []\n",
        "for i in range(0,1783):\n",
        "    timg = test_data['Image'][i].split(' ')\n",
        "    timg = ['0' if x == '' else x for x in timg]\n",
        "\n",
        "    timag.append(timg)"
      ],
      "metadata": {
        "id": "KTFFr14cbaiL",
        "execution": {
          "iopub.status.busy": "2024-03-31T05:41:26.996478Z",
          "iopub.execute_input": "2024-03-31T05:41:26.997093Z",
          "iopub.status.idle": "2024-03-31T05:41:30.409176Z",
          "shell.execute_reply.started": "2024-03-31T05:41:26.997056Z",
          "shell.execute_reply": "2024-03-31T05:41:30.407468Z"
        },
        "trusted": true
      },
      "execution_count": null,
      "outputs": []
    },
    {
      "cell_type": "code",
      "source": [
        "timage_list = np.array(timag,dtype = 'float')\n",
        "X_test = timage_list.reshape(-1,96,96,1)"
      ],
      "metadata": {
        "id": "IivHrqGNcEoT",
        "execution": {
          "iopub.status.busy": "2024-03-31T05:41:43.309192Z",
          "iopub.execute_input": "2024-03-31T05:41:43.309683Z",
          "iopub.status.idle": "2024-03-31T05:41:46.607677Z",
          "shell.execute_reply.started": "2024-03-31T05:41:43.309643Z",
          "shell.execute_reply": "2024-03-31T05:41:46.606176Z"
        },
        "trusted": true
      },
      "execution_count": null,
      "outputs": []
    },
    {
      "cell_type": "code",
      "source": [
        "X_test.shape"
      ],
      "metadata": {
        "id": "40DR1okOp0C0",
        "execution": {
          "iopub.status.busy": "2024-03-31T05:41:47.272726Z",
          "iopub.execute_input": "2024-03-31T05:41:47.273234Z",
          "iopub.status.idle": "2024-03-31T05:41:47.282194Z",
          "shell.execute_reply.started": "2024-03-31T05:41:47.273198Z",
          "shell.execute_reply": "2024-03-31T05:41:47.280541Z"
        },
        "trusted": true,
        "outputId": "6c62ebde-c55c-4c86-e09a-2a6f3befe54a"
      },
      "execution_count": null,
      "outputs": [
        {
          "execution_count": 33,
          "output_type": "execute_result",
          "data": {
            "text/plain": "(1783, 96, 96, 1)"
          },
          "metadata": {}
        }
      ]
    },
    {
      "cell_type": "code",
      "source": [
        "tf_tensor = tf.convert_to_tensor(X_test, dtype=tf.float32)\n",
        "# Assuming X_train is your grayscale image dataset with shape (num_images, 96, 96, 1)\n",
        "X_test = tf.image.grayscale_to_rgb(tf_tensor)"
      ],
      "metadata": {
        "id": "MSXunKEmpfDd",
        "execution": {
          "iopub.status.busy": "2024-03-31T05:41:53.783145Z",
          "iopub.execute_input": "2024-03-31T05:41:53.784307Z",
          "iopub.status.idle": "2024-03-31T05:41:54.126849Z",
          "shell.execute_reply.started": "2024-03-31T05:41:53.784272Z",
          "shell.execute_reply": "2024-03-31T05:41:54.125361Z"
        },
        "trusted": true
      },
      "execution_count": null,
      "outputs": []
    },
    {
      "cell_type": "code",
      "source": [
        "pred1 = model.predict(X_test)\n",
        "pred2 = model2.predict(X_test)"
      ],
      "metadata": {
        "execution": {
          "iopub.status.busy": "2024-03-31T05:41:59.989804Z",
          "iopub.execute_input": "2024-03-31T05:41:59.990202Z",
          "iopub.status.idle": "2024-03-31T05:43:54.900096Z",
          "shell.execute_reply.started": "2024-03-31T05:41:59.990173Z",
          "shell.execute_reply": "2024-03-31T05:43:54.899096Z"
        },
        "trusted": true,
        "id": "VspDWf6lGstE",
        "outputId": "bdaf75e5-bcd0-4d4a-f5d6-48fbd9ea314d"
      },
      "execution_count": null,
      "outputs": [
        {
          "name": "stdout",
          "text": "\u001b[1m56/56\u001b[0m \u001b[32m━━━━━━━━━━━━━━━━━━━━\u001b[0m\u001b[37m\u001b[0m \u001b[1m32s\u001b[0m 525ms/step\n\u001b[1m56/56\u001b[0m \u001b[32m━━━━━━━━━━━━━━━━━━━━\u001b[0m\u001b[37m\u001b[0m \u001b[1m43s\u001b[0m 665ms/step\n",
          "output_type": "stream"
        }
      ]
    },
    {
      "cell_type": "code",
      "source": [
        "pred = (pred1+pred2)/2"
      ],
      "metadata": {
        "id": "L8ru8xUha9MD",
        "execution": {
          "iopub.status.busy": "2024-03-31T05:44:33.834693Z",
          "iopub.execute_input": "2024-03-31T05:44:33.835114Z",
          "iopub.status.idle": "2024-03-31T05:44:33.841807Z",
          "shell.execute_reply.started": "2024-03-31T05:44:33.835084Z",
          "shell.execute_reply": "2024-03-31T05:44:33.840224Z"
        },
        "trusted": true
      },
      "execution_count": null,
      "outputs": []
    },
    {
      "cell_type": "code",
      "source": [
        "lookid_data = pd.read_csv('/kaggle/input/facial-keypoints-detection/IdLookupTable.csv')\n",
        "lookid_list = list(lookid_data['FeatureName'])\n",
        "imageID = list(lookid_data['ImageId']-1)\n",
        "pre_list = list(pred)\n",
        "rowid = lookid_data['RowId']\n",
        "rowid=list(rowid)\n",
        "feature = []\n",
        "for f in list(lookid_data['FeatureName']):\n",
        "    feature.append(lookid_list.index(f))\n",
        "preded = []\n",
        "for x,y in zip(imageID,feature):\n",
        "    preded.append(pre_list[x][y])\n",
        "rowid = pd.Series(rowid,name = 'RowId')\n",
        "loc = pd.Series(preded,name = 'Location')\n",
        "submission = pd.concat([rowid,loc],axis = 1)\n",
        "submission.to_csv('/kaggle/working/face_key_detection_submission.csv',index = False)"
      ],
      "metadata": {
        "id": "0RibNmMn6ZxW",
        "execution": {
          "iopub.status.busy": "2024-03-31T05:44:40.805229Z",
          "iopub.execute_input": "2024-03-31T05:44:40.806897Z",
          "iopub.status.idle": "2024-03-31T05:44:41.019884Z",
          "shell.execute_reply.started": "2024-03-31T05:44:40.806831Z",
          "shell.execute_reply": "2024-03-31T05:44:41.018618Z"
        },
        "trusted": true
      },
      "execution_count": null,
      "outputs": []
    },
    {
      "cell_type": "code",
      "source": [
        "fd=pd.read_csv('/kaggle/working/face_key_detection_submission.csv')"
      ],
      "metadata": {
        "id": "Zc_a61AbsEv-",
        "execution": {
          "iopub.status.busy": "2024-03-31T05:44:45.83261Z",
          "iopub.execute_input": "2024-03-31T05:44:45.833777Z",
          "iopub.status.idle": "2024-03-31T05:44:45.852577Z",
          "shell.execute_reply.started": "2024-03-31T05:44:45.833732Z",
          "shell.execute_reply": "2024-03-31T05:44:45.851176Z"
        },
        "trusted": true
      },
      "execution_count": null,
      "outputs": []
    },
    {
      "cell_type": "markdown",
      "source": [],
      "metadata": {
        "id": "TeA6wu_js-Vk"
      }
    },
    {
      "cell_type": "code",
      "source": [
        "fd[fd['Location'] > 96]"
      ],
      "metadata": {
        "id": "fm1HIi4F7POd",
        "execution": {
          "iopub.status.busy": "2024-03-31T05:44:48.912803Z",
          "iopub.execute_input": "2024-03-31T05:44:48.913749Z",
          "iopub.status.idle": "2024-03-31T05:44:48.931004Z",
          "shell.execute_reply.started": "2024-03-31T05:44:48.913712Z",
          "shell.execute_reply": "2024-03-31T05:44:48.930113Z"
        },
        "trusted": true,
        "outputId": "999b0723-7cb4-488f-db06-286af76a4df6"
      },
      "execution_count": null,
      "outputs": [
        {
          "execution_count": 41,
          "output_type": "execute_result",
          "data": {
            "text/plain": "Empty DataFrame\nColumns: [RowId, Location]\nIndex: []",
            "text/html": "<div>\n<style scoped>\n    .dataframe tbody tr th:only-of-type {\n        vertical-align: middle;\n    }\n\n    .dataframe tbody tr th {\n        vertical-align: top;\n    }\n\n    .dataframe thead th {\n        text-align: right;\n    }\n</style>\n<table border=\"1\" class=\"dataframe\">\n  <thead>\n    <tr style=\"text-align: right;\">\n      <th></th>\n      <th>RowId</th>\n      <th>Location</th>\n    </tr>\n  </thead>\n  <tbody>\n  </tbody>\n</table>\n</div>"
          },
          "metadata": {}
        }
      ]
    },
    {
      "cell_type": "code",
      "source": [
        "fd.loc[fd['Location'] > 96, 'Location'] = 95\n",
        "submission = fd"
      ],
      "metadata": {
        "id": "wJO5gNR2sN6l",
        "execution": {
          "iopub.status.busy": "2024-03-31T05:44:59.595039Z",
          "iopub.execute_input": "2024-03-31T05:44:59.595534Z",
          "iopub.status.idle": "2024-03-31T05:44:59.603771Z",
          "shell.execute_reply.started": "2024-03-31T05:44:59.595501Z",
          "shell.execute_reply": "2024-03-31T05:44:59.602393Z"
        },
        "trusted": true
      },
      "execution_count": null,
      "outputs": []
    },
    {
      "cell_type": "code",
      "source": [
        "submission.to_csv('/kaggle/working/face_key_detection_submission.csv',index = False)"
      ],
      "metadata": {
        "id": "n74cnqEhtVyN",
        "execution": {
          "iopub.status.busy": "2024-03-31T05:45:05.131864Z",
          "iopub.execute_input": "2024-03-31T05:45:05.132257Z",
          "iopub.status.idle": "2024-03-31T05:45:05.205414Z",
          "shell.execute_reply.started": "2024-03-31T05:45:05.132227Z",
          "shell.execute_reply": "2024-03-31T05:45:05.203956Z"
        },
        "trusted": true
      },
      "execution_count": null,
      "outputs": []
    }
  ]
}