{
  "metadata": {
    "colab": {
      "provenance": [],
      "name": "Facial Keypoints Detection",
      "include_colab_link": true
    },
    "kernelspec": {
      "name": "python3",
      "display_name": "Python 3",
      "language": "python"
    },
    "language_info": {
      "name": "python",
      "version": "3.10.13",
      "mimetype": "text/x-python",
      "codemirror_mode": {
        "name": "ipython",
        "version": 3
      },
      "pygments_lexer": "ipython3",
      "nbconvert_exporter": "python",
      "file_extension": ".py"
    },
    "kaggle": {
      "accelerator": "none",
      "dataSources": [
        {
          "sourceId": 3486,
          "databundleVersionId": 31310,
          "sourceType": "competition"
        }
      ],
      "dockerImageVersionId": 30673,
      "isInternetEnabled": true,
      "language": "python",
      "sourceType": "notebook",
      "isGpuEnabled": false
    }
  },
  "nbformat_minor": 0,
  "nbformat": 4,
  "cells": [
    {
      "cell_type": "markdown",
      "metadata": {
        "id": "view-in-github",
        "colab_type": "text"
      },
      "source": [
        "<a href=\"https://colab.research.google.com/github/MissoumYoucef/Kaggle_Competition/blob/main/Facial_Keypoints_Detection.ipynb\" target=\"_parent\"><img src=\"https://colab.research.google.com/assets/colab-badge.svg\" alt=\"Open In Colab\"/></a>"
      ]
    },
    {
      "source": [
        "\n",
        "# IMPORTANT: RUN THIS CELL IN ORDER TO IMPORT YOUR KAGGLE DATA SOURCES\n",
        "# TO THE CORRECT LOCATION (/kaggle/input) IN YOUR NOTEBOOK,\n",
        "# THEN FEEL FREE TO DELETE THIS CELL.\n",
        "# NOTE: THIS NOTEBOOK ENVIRONMENT DIFFERS FROM KAGGLE'S PYTHON\n",
        "# ENVIRONMENT SO THERE MAY BE MISSING LIBRARIES USED BY YOUR\n",
        "# NOTEBOOK.\n",
        "\n",
        "import os\n",
        "import sys\n",
        "from tempfile import NamedTemporaryFile\n",
        "from urllib.request import urlopen\n",
        "from urllib.parse import unquote, urlparse\n",
        "from urllib.error import HTTPError\n",
        "from zipfile import ZipFile\n",
        "import tarfile\n",
        "import shutil\n",
        "\n",
        "CHUNK_SIZE = 40960\n",
        "DATA_SOURCE_MAPPING = 'facial-keypoints-detection:https%3A%2F%2Fstorage.googleapis.com%2Fkaggle-competitions-data%2Fkaggle-v2%2F3486%2F31310%2Fbundle%2Farchive.zip%3FX-Goog-Algorithm%3DGOOG4-RSA-SHA256%26X-Goog-Credential%3Dgcp-kaggle-com%2540kaggle-161607.iam.gserviceaccount.com%252F20240402%252Fauto%252Fstorage%252Fgoog4_request%26X-Goog-Date%3D20240402T211435Z%26X-Goog-Expires%3D259200%26X-Goog-SignedHeaders%3Dhost%26X-Goog-Signature%3D13b8fd23c5b3eee0d3a1b2174078da6e029efff8720ecdbdb1813d3bd2f5b1e09cc497052a3ee37a19accd1865ec66ac07fd3fa9d7c3277fadfc10a5aff92fe08234f6641d7901d0a832fd6051865196873dd91199d80c0f97f7a72cafd41b1d6cb1fe046f9c7aba1734ba35ad4a0d30123efbc8758e7997af0d25358fda20866474b6d8d55ad6df483ec035155a44a8d35936bceee83788fce0b40ed246a3f518a41da5149e3fd72f489436898ba47f9c2a0b8baa8401d206b5e6e61ccc27013a436ace421476540a7f710a9a9fae246b39cf623bc0ae3f542440b1247bcac14fcb9a052a07305b51bdcfd096a205f15f9974e07a51461a5b5e933e0ed224c2'\n",
        "\n",
        "KAGGLE_INPUT_PATH='/kaggle/input'\n",
        "KAGGLE_WORKING_PATH='/kaggle/working'\n",
        "KAGGLE_SYMLINK='kaggle'\n",
        "\n",
        "!umount /kaggle/input/ 2> /dev/null\n",
        "shutil.rmtree('/kaggle/input', ignore_errors=True)\n",
        "os.makedirs(KAGGLE_INPUT_PATH, 0o777, exist_ok=True)\n",
        "os.makedirs(KAGGLE_WORKING_PATH, 0o777, exist_ok=True)\n",
        "\n",
        "try:\n",
        "  os.symlink(KAGGLE_INPUT_PATH, os.path.join(\"..\", 'input'), target_is_directory=True)\n",
        "except FileExistsError:\n",
        "  pass\n",
        "try:\n",
        "  os.symlink(KAGGLE_WORKING_PATH, os.path.join(\"..\", 'working'), target_is_directory=True)\n",
        "except FileExistsError:\n",
        "  pass\n",
        "\n",
        "for data_source_mapping in DATA_SOURCE_MAPPING.split(','):\n",
        "    directory, download_url_encoded = data_source_mapping.split(':')\n",
        "    download_url = unquote(download_url_encoded)\n",
        "    filename = urlparse(download_url).path\n",
        "    destination_path = os.path.join(KAGGLE_INPUT_PATH, directory)\n",
        "    try:\n",
        "        with urlopen(download_url) as fileres, NamedTemporaryFile() as tfile:\n",
        "            total_length = fileres.headers['content-length']\n",
        "            print(f'Downloading {directory}, {total_length} bytes compressed')\n",
        "            dl = 0\n",
        "            data = fileres.read(CHUNK_SIZE)\n",
        "            while len(data) > 0:\n",
        "                dl += len(data)\n",
        "                tfile.write(data)\n",
        "                done = int(50 * dl / int(total_length))\n",
        "                sys.stdout.write(f\"\\r[{'=' * done}{' ' * (50-done)}] {dl} bytes downloaded\")\n",
        "                sys.stdout.flush()\n",
        "                data = fileres.read(CHUNK_SIZE)\n",
        "            if filename.endswith('.zip'):\n",
        "              with ZipFile(tfile) as zfile:\n",
        "                zfile.extractall(destination_path)\n",
        "            else:\n",
        "              with tarfile.open(tfile.name) as tarfile:\n",
        "                tarfile.extractall(destination_path)\n",
        "            print(f'\\nDownloaded and uncompressed: {directory}')\n",
        "    except HTTPError as e:\n",
        "        print(f'Failed to load (likely expired) {download_url} to path {destination_path}')\n",
        "        continue\n",
        "    except OSError as e:\n",
        "        print(f'Failed to load {download_url} to path {destination_path}')\n",
        "        continue\n",
        "\n",
        "print('Data source import complete.')\n"
      ],
      "metadata": {
        "id": "OqBKh-t4qsq1"
      },
      "cell_type": "code",
      "outputs": [],
      "execution_count": null
    },
    {
      "cell_type": "code",
      "source": [
        "from keras.layers import Conv2D,Dropout,Dense,Flatten\n",
        "from keras.models import Sequential\n",
        "from keras.layers import LeakyReLU\n",
        "from keras.models import Sequential, Model\n",
        "from keras.layers import Activation, Convolution2D, MaxPooling2D, BatchNormalization, Flatten, Dense, Dropout, Conv2D,MaxPool2D, ZeroPadding2D\n",
        "import numpy as np\n",
        "import pandas as pd\n",
        "from sklearn.model_selection import train_test_split\n",
        "from sklearn.metrics import mean_squared_error"
      ],
      "metadata": {
        "id": "Z7lZb98F6Tp9",
        "execution": {
          "iopub.status.busy": "2024-04-01T23:28:26.038762Z",
          "iopub.execute_input": "2024-04-01T23:28:26.039537Z",
          "iopub.status.idle": "2024-04-01T23:28:26.047445Z",
          "shell.execute_reply.started": "2024-04-01T23:28:26.039502Z",
          "shell.execute_reply": "2024-04-01T23:28:26.046424Z"
        },
        "trusted": true
      },
      "execution_count": null,
      "outputs": []
    },
    {
      "cell_type": "code",
      "source": [
        "train_data = pd.read_csv('/kaggle/input/facial-keypoints-detection/training.zip')\n",
        "test_data = pd.read_csv('/kaggle/input/facial-keypoints-detection/test.zip')"
      ],
      "metadata": {
        "id": "tzQ-XE7SJRHs",
        "execution": {
          "iopub.status.busy": "2024-04-01T23:28:26.049712Z",
          "iopub.execute_input": "2024-04-01T23:28:26.050716Z",
          "iopub.status.idle": "2024-04-01T23:28:32.453417Z",
          "shell.execute_reply.started": "2024-04-01T23:28:26.050672Z",
          "shell.execute_reply": "2024-04-01T23:28:32.452489Z"
        },
        "trusted": true
      },
      "execution_count": null,
      "outputs": []
    },
    {
      "cell_type": "code",
      "source": [
        "train_data.shape,test_data.shape"
      ],
      "metadata": {
        "colab": {
          "base_uri": "https://localhost:8080/"
        },
        "id": "ZPJfUv_lJTJ2",
        "outputId": "ee090a5b-1df4-408d-eb3f-60e2f9b34bb6",
        "execution": {
          "iopub.status.busy": "2024-04-01T23:28:32.456142Z",
          "iopub.execute_input": "2024-04-01T23:28:32.456519Z",
          "iopub.status.idle": "2024-04-01T23:28:32.464234Z",
          "shell.execute_reply.started": "2024-04-01T23:28:32.456489Z",
          "shell.execute_reply": "2024-04-01T23:28:32.463193Z"
        },
        "trusted": true
      },
      "execution_count": null,
      "outputs": [
        {
          "execution_count": 4,
          "output_type": "execute_result",
          "data": {
            "text/plain": "((7049, 31), (1783, 2))"
          },
          "metadata": {}
        }
      ]
    },
    {
      "cell_type": "code",
      "source": [
        "# Extract the image data and keypoint coordinates\n",
        "images = train_data['Image'].apply(lambda x: np.array(x.split(' '), dtype=int))"
      ],
      "metadata": {
        "id": "a8APX-7q6OfL",
        "execution": {
          "iopub.status.busy": "2024-04-01T23:28:32.465982Z",
          "iopub.execute_input": "2024-04-01T23:28:32.466286Z",
          "iopub.status.idle": "2024-04-01T23:28:45.722003Z",
          "shell.execute_reply.started": "2024-04-01T23:28:32.46626Z",
          "shell.execute_reply": "2024-04-01T23:28:45.720742Z"
        },
        "trusted": true
      },
      "execution_count": null,
      "outputs": []
    },
    {
      "cell_type": "code",
      "source": [
        "null_counts=train_data.isna().sum()\n",
        "# null_counts"
      ],
      "metadata": {
        "id": "7TU5JDlWQBJw",
        "execution": {
          "iopub.status.busy": "2024-04-01T23:28:45.725252Z",
          "iopub.execute_input": "2024-04-01T23:28:45.725594Z",
          "iopub.status.idle": "2024-04-01T23:28:45.735752Z",
          "shell.execute_reply.started": "2024-04-01T23:28:45.725566Z",
          "shell.execute_reply": "2024-04-01T23:28:45.734483Z"
        },
        "trusted": true
      },
      "execution_count": null,
      "outputs": []
    },
    {
      "cell_type": "code",
      "source": [
        "non_much_Null_values=null_counts.index\n",
        "non_much_Null_values = [col for col in non_much_Null_values if col != 'Image']\n",
        "# non_much_Null_values"
      ],
      "metadata": {
        "id": "FqcVlpCLTvO3",
        "execution": {
          "iopub.status.busy": "2024-04-01T23:28:45.737482Z",
          "iopub.execute_input": "2024-04-01T23:28:45.73792Z",
          "iopub.status.idle": "2024-04-01T23:28:45.744139Z",
          "shell.execute_reply.started": "2024-04-01T23:28:45.737882Z",
          "shell.execute_reply": "2024-04-01T23:28:45.742719Z"
        },
        "trusted": true
      },
      "execution_count": null,
      "outputs": []
    },
    {
      "cell_type": "code",
      "source": [
        "for feature in non_much_Null_values:\n",
        "    median_value = train_data[feature].median()\n",
        "    train_data[feature].fillna(median_value, inplace=True)"
      ],
      "metadata": {
        "id": "FsKtzYDSLfqo",
        "execution": {
          "iopub.status.busy": "2024-04-01T23:28:45.746857Z",
          "iopub.execute_input": "2024-04-01T23:28:45.747325Z",
          "iopub.status.idle": "2024-04-01T23:28:45.780777Z",
          "shell.execute_reply.started": "2024-04-01T23:28:45.747271Z",
          "shell.execute_reply": "2024-04-01T23:28:45.778267Z"
        },
        "trusted": true,
        "outputId": "8b0ad42b-50c8-489f-cf8f-f4b42b59dee7"
      },
      "execution_count": null,
      "outputs": [
        {
          "name": "stderr",
          "text": "/tmp/ipykernel_33/1613402553.py:3: FutureWarning: A value is trying to be set on a copy of a DataFrame or Series through chained assignment using an inplace method.\nThe behavior will change in pandas 3.0. This inplace method will never work because the intermediate object on which we are setting values always behaves as a copy.\n\nFor example, when doing 'df[col].method(value, inplace=True)', try using 'df.method({col: value}, inplace=True)' or df[col] = df[col].method(value) instead, to perform the operation inplace on the original object.\n\n\n  train_data[feature].fillna(median_value, inplace=True)\n/tmp/ipykernel_33/1613402553.py:3: FutureWarning: A value is trying to be set on a copy of a DataFrame or Series through chained assignment using an inplace method.\nThe behavior will change in pandas 3.0. This inplace method will never work because the intermediate object on which we are setting values always behaves as a copy.\n\nFor example, when doing 'df[col].method(value, inplace=True)', try using 'df.method({col: value}, inplace=True)' or df[col] = df[col].method(value) instead, to perform the operation inplace on the original object.\n\n\n  train_data[feature].fillna(median_value, inplace=True)\n/tmp/ipykernel_33/1613402553.py:3: FutureWarning: A value is trying to be set on a copy of a DataFrame or Series through chained assignment using an inplace method.\nThe behavior will change in pandas 3.0. This inplace method will never work because the intermediate object on which we are setting values always behaves as a copy.\n\nFor example, when doing 'df[col].method(value, inplace=True)', try using 'df.method({col: value}, inplace=True)' or df[col] = df[col].method(value) instead, to perform the operation inplace on the original object.\n\n\n  train_data[feature].fillna(median_value, inplace=True)\n/tmp/ipykernel_33/1613402553.py:3: FutureWarning: A value is trying to be set on a copy of a DataFrame or Series through chained assignment using an inplace method.\nThe behavior will change in pandas 3.0. This inplace method will never work because the intermediate object on which we are setting values always behaves as a copy.\n\nFor example, when doing 'df[col].method(value, inplace=True)', try using 'df.method({col: value}, inplace=True)' or df[col] = df[col].method(value) instead, to perform the operation inplace on the original object.\n\n\n  train_data[feature].fillna(median_value, inplace=True)\n/tmp/ipykernel_33/1613402553.py:3: FutureWarning: A value is trying to be set on a copy of a DataFrame or Series through chained assignment using an inplace method.\nThe behavior will change in pandas 3.0. This inplace method will never work because the intermediate object on which we are setting values always behaves as a copy.\n\nFor example, when doing 'df[col].method(value, inplace=True)', try using 'df.method({col: value}, inplace=True)' or df[col] = df[col].method(value) instead, to perform the operation inplace on the original object.\n\n\n  train_data[feature].fillna(median_value, inplace=True)\n/tmp/ipykernel_33/1613402553.py:3: FutureWarning: A value is trying to be set on a copy of a DataFrame or Series through chained assignment using an inplace method.\nThe behavior will change in pandas 3.0. This inplace method will never work because the intermediate object on which we are setting values always behaves as a copy.\n\nFor example, when doing 'df[col].method(value, inplace=True)', try using 'df.method({col: value}, inplace=True)' or df[col] = df[col].method(value) instead, to perform the operation inplace on the original object.\n\n\n  train_data[feature].fillna(median_value, inplace=True)\n/tmp/ipykernel_33/1613402553.py:3: FutureWarning: A value is trying to be set on a copy of a DataFrame or Series through chained assignment using an inplace method.\nThe behavior will change in pandas 3.0. This inplace method will never work because the intermediate object on which we are setting values always behaves as a copy.\n\nFor example, when doing 'df[col].method(value, inplace=True)', try using 'df.method({col: value}, inplace=True)' or df[col] = df[col].method(value) instead, to perform the operation inplace on the original object.\n\n\n  train_data[feature].fillna(median_value, inplace=True)\n/tmp/ipykernel_33/1613402553.py:3: FutureWarning: A value is trying to be set on a copy of a DataFrame or Series through chained assignment using an inplace method.\nThe behavior will change in pandas 3.0. This inplace method will never work because the intermediate object on which we are setting values always behaves as a copy.\n\nFor example, when doing 'df[col].method(value, inplace=True)', try using 'df.method({col: value}, inplace=True)' or df[col] = df[col].method(value) instead, to perform the operation inplace on the original object.\n\n\n  train_data[feature].fillna(median_value, inplace=True)\n/tmp/ipykernel_33/1613402553.py:3: FutureWarning: A value is trying to be set on a copy of a DataFrame or Series through chained assignment using an inplace method.\nThe behavior will change in pandas 3.0. This inplace method will never work because the intermediate object on which we are setting values always behaves as a copy.\n\nFor example, when doing 'df[col].method(value, inplace=True)', try using 'df.method({col: value}, inplace=True)' or df[col] = df[col].method(value) instead, to perform the operation inplace on the original object.\n\n\n  train_data[feature].fillna(median_value, inplace=True)\n/tmp/ipykernel_33/1613402553.py:3: FutureWarning: A value is trying to be set on a copy of a DataFrame or Series through chained assignment using an inplace method.\nThe behavior will change in pandas 3.0. This inplace method will never work because the intermediate object on which we are setting values always behaves as a copy.\n\nFor example, when doing 'df[col].method(value, inplace=True)', try using 'df.method({col: value}, inplace=True)' or df[col] = df[col].method(value) instead, to perform the operation inplace on the original object.\n\n\n  train_data[feature].fillna(median_value, inplace=True)\n/tmp/ipykernel_33/1613402553.py:3: FutureWarning: A value is trying to be set on a copy of a DataFrame or Series through chained assignment using an inplace method.\nThe behavior will change in pandas 3.0. This inplace method will never work because the intermediate object on which we are setting values always behaves as a copy.\n\nFor example, when doing 'df[col].method(value, inplace=True)', try using 'df.method({col: value}, inplace=True)' or df[col] = df[col].method(value) instead, to perform the operation inplace on the original object.\n\n\n  train_data[feature].fillna(median_value, inplace=True)\n/tmp/ipykernel_33/1613402553.py:3: FutureWarning: A value is trying to be set on a copy of a DataFrame or Series through chained assignment using an inplace method.\nThe behavior will change in pandas 3.0. This inplace method will never work because the intermediate object on which we are setting values always behaves as a copy.\n\nFor example, when doing 'df[col].method(value, inplace=True)', try using 'df.method({col: value}, inplace=True)' or df[col] = df[col].method(value) instead, to perform the operation inplace on the original object.\n\n\n  train_data[feature].fillna(median_value, inplace=True)\n/tmp/ipykernel_33/1613402553.py:3: FutureWarning: A value is trying to be set on a copy of a DataFrame or Series through chained assignment using an inplace method.\nThe behavior will change in pandas 3.0. This inplace method will never work because the intermediate object on which we are setting values always behaves as a copy.\n\nFor example, when doing 'df[col].method(value, inplace=True)', try using 'df.method({col: value}, inplace=True)' or df[col] = df[col].method(value) instead, to perform the operation inplace on the original object.\n\n\n  train_data[feature].fillna(median_value, inplace=True)\n/tmp/ipykernel_33/1613402553.py:3: FutureWarning: A value is trying to be set on a copy of a DataFrame or Series through chained assignment using an inplace method.\nThe behavior will change in pandas 3.0. This inplace method will never work because the intermediate object on which we are setting values always behaves as a copy.\n\nFor example, when doing 'df[col].method(value, inplace=True)', try using 'df.method({col: value}, inplace=True)' or df[col] = df[col].method(value) instead, to perform the operation inplace on the original object.\n\n\n  train_data[feature].fillna(median_value, inplace=True)\n/tmp/ipykernel_33/1613402553.py:3: FutureWarning: A value is trying to be set on a copy of a DataFrame or Series through chained assignment using an inplace method.\nThe behavior will change in pandas 3.0. This inplace method will never work because the intermediate object on which we are setting values always behaves as a copy.\n\nFor example, when doing 'df[col].method(value, inplace=True)', try using 'df.method({col: value}, inplace=True)' or df[col] = df[col].method(value) instead, to perform the operation inplace on the original object.\n\n\n  train_data[feature].fillna(median_value, inplace=True)\n/tmp/ipykernel_33/1613402553.py:3: FutureWarning: A value is trying to be set on a copy of a DataFrame or Series through chained assignment using an inplace method.\nThe behavior will change in pandas 3.0. This inplace method will never work because the intermediate object on which we are setting values always behaves as a copy.\n\nFor example, when doing 'df[col].method(value, inplace=True)', try using 'df.method({col: value}, inplace=True)' or df[col] = df[col].method(value) instead, to perform the operation inplace on the original object.\n\n\n  train_data[feature].fillna(median_value, inplace=True)\n/tmp/ipykernel_33/1613402553.py:3: FutureWarning: A value is trying to be set on a copy of a DataFrame or Series through chained assignment using an inplace method.\nThe behavior will change in pandas 3.0. This inplace method will never work because the intermediate object on which we are setting values always behaves as a copy.\n\nFor example, when doing 'df[col].method(value, inplace=True)', try using 'df.method({col: value}, inplace=True)' or df[col] = df[col].method(value) instead, to perform the operation inplace on the original object.\n\n\n  train_data[feature].fillna(median_value, inplace=True)\n/tmp/ipykernel_33/1613402553.py:3: FutureWarning: A value is trying to be set on a copy of a DataFrame or Series through chained assignment using an inplace method.\nThe behavior will change in pandas 3.0. This inplace method will never work because the intermediate object on which we are setting values always behaves as a copy.\n\nFor example, when doing 'df[col].method(value, inplace=True)', try using 'df.method({col: value}, inplace=True)' or df[col] = df[col].method(value) instead, to perform the operation inplace on the original object.\n\n\n  train_data[feature].fillna(median_value, inplace=True)\n/tmp/ipykernel_33/1613402553.py:3: FutureWarning: A value is trying to be set on a copy of a DataFrame or Series through chained assignment using an inplace method.\nThe behavior will change in pandas 3.0. This inplace method will never work because the intermediate object on which we are setting values always behaves as a copy.\n\nFor example, when doing 'df[col].method(value, inplace=True)', try using 'df.method({col: value}, inplace=True)' or df[col] = df[col].method(value) instead, to perform the operation inplace on the original object.\n\n\n  train_data[feature].fillna(median_value, inplace=True)\n/tmp/ipykernel_33/1613402553.py:3: FutureWarning: A value is trying to be set on a copy of a DataFrame or Series through chained assignment using an inplace method.\nThe behavior will change in pandas 3.0. This inplace method will never work because the intermediate object on which we are setting values always behaves as a copy.\n\nFor example, when doing 'df[col].method(value, inplace=True)', try using 'df.method({col: value}, inplace=True)' or df[col] = df[col].method(value) instead, to perform the operation inplace on the original object.\n\n\n  train_data[feature].fillna(median_value, inplace=True)\n/tmp/ipykernel_33/1613402553.py:3: FutureWarning: A value is trying to be set on a copy of a DataFrame or Series through chained assignment using an inplace method.\nThe behavior will change in pandas 3.0. This inplace method will never work because the intermediate object on which we are setting values always behaves as a copy.\n\nFor example, when doing 'df[col].method(value, inplace=True)', try using 'df.method({col: value}, inplace=True)' or df[col] = df[col].method(value) instead, to perform the operation inplace on the original object.\n\n\n  train_data[feature].fillna(median_value, inplace=True)\n/tmp/ipykernel_33/1613402553.py:3: FutureWarning: A value is trying to be set on a copy of a DataFrame or Series through chained assignment using an inplace method.\nThe behavior will change in pandas 3.0. This inplace method will never work because the intermediate object on which we are setting values always behaves as a copy.\n\nFor example, when doing 'df[col].method(value, inplace=True)', try using 'df.method({col: value}, inplace=True)' or df[col] = df[col].method(value) instead, to perform the operation inplace on the original object.\n\n\n  train_data[feature].fillna(median_value, inplace=True)\n/tmp/ipykernel_33/1613402553.py:3: FutureWarning: A value is trying to be set on a copy of a DataFrame or Series through chained assignment using an inplace method.\nThe behavior will change in pandas 3.0. This inplace method will never work because the intermediate object on which we are setting values always behaves as a copy.\n\nFor example, when doing 'df[col].method(value, inplace=True)', try using 'df.method({col: value}, inplace=True)' or df[col] = df[col].method(value) instead, to perform the operation inplace on the original object.\n\n\n  train_data[feature].fillna(median_value, inplace=True)\n/tmp/ipykernel_33/1613402553.py:3: FutureWarning: A value is trying to be set on a copy of a DataFrame or Series through chained assignment using an inplace method.\nThe behavior will change in pandas 3.0. This inplace method will never work because the intermediate object on which we are setting values always behaves as a copy.\n\nFor example, when doing 'df[col].method(value, inplace=True)', try using 'df.method({col: value}, inplace=True)' or df[col] = df[col].method(value) instead, to perform the operation inplace on the original object.\n\n\n  train_data[feature].fillna(median_value, inplace=True)\n/tmp/ipykernel_33/1613402553.py:3: FutureWarning: A value is trying to be set on a copy of a DataFrame or Series through chained assignment using an inplace method.\nThe behavior will change in pandas 3.0. This inplace method will never work because the intermediate object on which we are setting values always behaves as a copy.\n\nFor example, when doing 'df[col].method(value, inplace=True)', try using 'df.method({col: value}, inplace=True)' or df[col] = df[col].method(value) instead, to perform the operation inplace on the original object.\n\n\n  train_data[feature].fillna(median_value, inplace=True)\n/tmp/ipykernel_33/1613402553.py:3: FutureWarning: A value is trying to be set on a copy of a DataFrame or Series through chained assignment using an inplace method.\nThe behavior will change in pandas 3.0. This inplace method will never work because the intermediate object on which we are setting values always behaves as a copy.\n\nFor example, when doing 'df[col].method(value, inplace=True)', try using 'df.method({col: value}, inplace=True)' or df[col] = df[col].method(value) instead, to perform the operation inplace on the original object.\n\n\n  train_data[feature].fillna(median_value, inplace=True)\n/tmp/ipykernel_33/1613402553.py:3: FutureWarning: A value is trying to be set on a copy of a DataFrame or Series through chained assignment using an inplace method.\nThe behavior will change in pandas 3.0. This inplace method will never work because the intermediate object on which we are setting values always behaves as a copy.\n\nFor example, when doing 'df[col].method(value, inplace=True)', try using 'df.method({col: value}, inplace=True)' or df[col] = df[col].method(value) instead, to perform the operation inplace on the original object.\n\n\n  train_data[feature].fillna(median_value, inplace=True)\n/tmp/ipykernel_33/1613402553.py:3: FutureWarning: A value is trying to be set on a copy of a DataFrame or Series through chained assignment using an inplace method.\nThe behavior will change in pandas 3.0. This inplace method will never work because the intermediate object on which we are setting values always behaves as a copy.\n\nFor example, when doing 'df[col].method(value, inplace=True)', try using 'df.method({col: value}, inplace=True)' or df[col] = df[col].method(value) instead, to perform the operation inplace on the original object.\n\n\n  train_data[feature].fillna(median_value, inplace=True)\n/tmp/ipykernel_33/1613402553.py:3: FutureWarning: A value is trying to be set on a copy of a DataFrame or Series through chained assignment using an inplace method.\nThe behavior will change in pandas 3.0. This inplace method will never work because the intermediate object on which we are setting values always behaves as a copy.\n\nFor example, when doing 'df[col].method(value, inplace=True)', try using 'df.method({col: value}, inplace=True)' or df[col] = df[col].method(value) instead, to perform the operation inplace on the original object.\n\n\n  train_data[feature].fillna(median_value, inplace=True)\n/tmp/ipykernel_33/1613402553.py:3: FutureWarning: A value is trying to be set on a copy of a DataFrame or Series through chained assignment using an inplace method.\nThe behavior will change in pandas 3.0. This inplace method will never work because the intermediate object on which we are setting values always behaves as a copy.\n\nFor example, when doing 'df[col].method(value, inplace=True)', try using 'df.method({col: value}, inplace=True)' or df[col] = df[col].method(value) instead, to perform the operation inplace on the original object.\n\n\n  train_data[feature].fillna(median_value, inplace=True)\n",
          "output_type": "stream"
        }
      ]
    },
    {
      "cell_type": "code",
      "source": [
        "keypoints = train_data.drop('Image', axis=1)"
      ],
      "metadata": {
        "id": "vVBZ3osyV9bM",
        "execution": {
          "iopub.status.busy": "2024-04-01T23:28:45.782215Z",
          "iopub.execute_input": "2024-04-01T23:28:45.78257Z",
          "iopub.status.idle": "2024-04-01T23:28:45.794835Z",
          "shell.execute_reply.started": "2024-04-01T23:28:45.782531Z",
          "shell.execute_reply": "2024-04-01T23:28:45.793795Z"
        },
        "trusted": true
      },
      "execution_count": null,
      "outputs": []
    },
    {
      "cell_type": "code",
      "source": [
        "X_train, X_val, y_train, y_val = train_test_split(images, keypoints, test_size=0.2, random_state=42)"
      ],
      "metadata": {
        "id": "boQUiIqlM0vn",
        "execution": {
          "iopub.status.busy": "2024-04-01T23:28:45.79643Z",
          "iopub.execute_input": "2024-04-01T23:28:45.797499Z",
          "iopub.status.idle": "2024-04-01T23:28:45.811086Z",
          "shell.execute_reply.started": "2024-04-01T23:28:45.797429Z",
          "shell.execute_reply": "2024-04-01T23:28:45.809803Z"
        },
        "trusted": true
      },
      "execution_count": null,
      "outputs": []
    },
    {
      "cell_type": "code",
      "source": [
        "# Reshape the image data\n",
        "X_train = np.array([x.reshape(96, 96, 1) for x in X_train])\n",
        "X_val = np.array([x.reshape(96, 96, 1) for x in X_val])"
      ],
      "metadata": {
        "id": "mi4KWeeJ6Rx2",
        "execution": {
          "iopub.status.busy": "2024-04-01T23:28:45.813392Z",
          "iopub.execute_input": "2024-04-01T23:28:45.813857Z",
          "iopub.status.idle": "2024-04-01T23:28:46.083182Z",
          "shell.execute_reply.started": "2024-04-01T23:28:45.813812Z",
          "shell.execute_reply": "2024-04-01T23:28:46.082206Z"
        },
        "trusted": true
      },
      "execution_count": null,
      "outputs": []
    },
    {
      "cell_type": "code",
      "source": [
        "X_train.shape"
      ],
      "metadata": {
        "id": "U9utdUVml2cc",
        "execution": {
          "iopub.status.busy": "2024-04-01T23:28:46.084621Z",
          "iopub.execute_input": "2024-04-01T23:28:46.084939Z",
          "iopub.status.idle": "2024-04-01T23:28:46.09252Z",
          "shell.execute_reply.started": "2024-04-01T23:28:46.084913Z",
          "shell.execute_reply": "2024-04-01T23:28:46.091176Z"
        },
        "trusted": true,
        "outputId": "18c585d8-4277-4f78-ac79-34ffcfeb417e"
      },
      "execution_count": null,
      "outputs": [
        {
          "execution_count": 12,
          "output_type": "execute_result",
          "data": {
            "text/plain": "(5639, 96, 96, 1)"
          },
          "metadata": {}
        }
      ]
    },
    {
      "cell_type": "code",
      "source": [
        "import tensorflow as tf\n",
        "tf_tensor = tf.convert_to_tensor(X_train, dtype=tf.float32)\n",
        "# Assuming X_train is your grayscale image dataset with shape (num_images, 96, 96, 1)\n",
        "X_train_rgb = tf.image.grayscale_to_rgb(tf_tensor)"
      ],
      "metadata": {
        "id": "2T6vCEf6i_Jj",
        "execution": {
          "iopub.status.busy": "2024-04-01T23:28:46.093895Z",
          "iopub.execute_input": "2024-04-01T23:28:46.094329Z",
          "iopub.status.idle": "2024-04-01T23:28:47.008282Z",
          "shell.execute_reply.started": "2024-04-01T23:28:46.094287Z",
          "shell.execute_reply": "2024-04-01T23:28:47.007389Z"
        },
        "trusted": true
      },
      "execution_count": null,
      "outputs": []
    },
    {
      "cell_type": "code",
      "source": [
        "X_train_rgb.shape"
      ],
      "metadata": {
        "id": "g68Fd0BLk6RV",
        "execution": {
          "iopub.status.busy": "2024-04-01T23:28:47.009175Z",
          "iopub.execute_input": "2024-04-01T23:28:47.009516Z",
          "iopub.status.idle": "2024-04-01T23:28:47.015924Z",
          "shell.execute_reply.started": "2024-04-01T23:28:47.009488Z",
          "shell.execute_reply": "2024-04-01T23:28:47.014873Z"
        },
        "trusted": true,
        "outputId": "1b83fb1a-0925-447c-c40a-d6744573fb73"
      },
      "execution_count": null,
      "outputs": [
        {
          "execution_count": 14,
          "output_type": "execute_result",
          "data": {
            "text/plain": "TensorShape([5639, 96, 96, 3])"
          },
          "metadata": {}
        }
      ]
    },
    {
      "cell_type": "code",
      "source": [
        "import tensorflow as tf\n",
        "from tensorflow.keras import layers, models\n",
        "from tensorflow.keras.applications import EfficientNetV2S,ResNet50\n",
        "from tensorflow.keras.preprocessing.image import ImageDataGenerator\n",
        "import numpy as np"
      ],
      "metadata": {
        "id": "PAFNxIAE2lHD",
        "execution": {
          "iopub.status.busy": "2024-04-01T23:28:47.02179Z",
          "iopub.execute_input": "2024-04-01T23:28:47.022352Z",
          "iopub.status.idle": "2024-04-01T23:28:47.031956Z",
          "shell.execute_reply.started": "2024-04-01T23:28:47.02232Z",
          "shell.execute_reply": "2024-04-01T23:28:47.030909Z"
        },
        "trusted": true
      },
      "execution_count": null,
      "outputs": []
    },
    {
      "cell_type": "code",
      "source": [
        "from tensorflow.keras.applications import VGG19\n",
        "\n",
        "vgg19_model = VGG19(weights='imagenet', include_top=False, input_shape=(96, 96, 3))\n",
        "for layer in vgg19_model.layers:\n",
        "    layer.trainable = False"
      ],
      "metadata": {
        "execution": {
          "iopub.status.busy": "2024-04-01T23:28:47.033442Z",
          "iopub.execute_input": "2024-04-01T23:28:47.034491Z",
          "iopub.status.idle": "2024-04-01T23:28:50.280709Z",
          "shell.execute_reply.started": "2024-04-01T23:28:47.034458Z",
          "shell.execute_reply": "2024-04-01T23:28:50.279603Z"
        },
        "trusted": true,
        "id": "c9GIBroiqsrQ",
        "outputId": "b2e165df-ceef-431a-b71c-f8e4498b37e9"
      },
      "execution_count": null,
      "outputs": [
        {
          "name": "stdout",
          "text": "Downloading data from https://storage.googleapis.com/tensorflow/keras-applications/vgg19/vgg19_weights_tf_dim_ordering_tf_kernels_notop.h5\n\u001b[1m80134624/80134624\u001b[0m \u001b[32m━━━━━━━━━━━━━━━━━━━━\u001b[0m\u001b[37m\u001b[0m \u001b[1m2s\u001b[0m 0us/step\n",
          "output_type": "stream"
        }
      ]
    },
    {
      "cell_type": "code",
      "source": [
        "from tensorflow.keras.applications import DenseNet121\n",
        "\n",
        "densenet_model = DenseNet121(weights='imagenet', include_top=False, input_shape=(96, 96, 3))\n",
        "for layer in densenet_model.layers:\n",
        "    layer.trainable = False"
      ],
      "metadata": {
        "execution": {
          "iopub.status.busy": "2024-04-01T23:28:50.282332Z",
          "iopub.execute_input": "2024-04-01T23:28:50.283346Z",
          "iopub.status.idle": "2024-04-01T23:28:55.140651Z",
          "shell.execute_reply.started": "2024-04-01T23:28:50.283287Z",
          "shell.execute_reply": "2024-04-01T23:28:55.13953Z"
        },
        "trusted": true,
        "id": "lAOjt5NEqsrQ",
        "outputId": "1662f60e-1b11-49c8-8eac-fd0c86146115"
      },
      "execution_count": null,
      "outputs": [
        {
          "name": "stdout",
          "text": "Downloading data from https://storage.googleapis.com/tensorflow/keras-applications/densenet/densenet121_weights_tf_dim_ordering_tf_kernels_notop.h5\n\u001b[1m29084464/29084464\u001b[0m \u001b[32m━━━━━━━━━━━━━━━━━━━━\u001b[0m\u001b[37m\u001b[0m \u001b[1m1s\u001b[0m 0us/step\n",
          "output_type": "stream"
        }
      ]
    },
    {
      "cell_type": "code",
      "source": [
        "from tensorflow.keras.applications import MobileNet\n",
        "mobilenet_model = MobileNet(weights='imagenet', include_top=False, input_shape=(96, 96, 3))\n",
        "for layer in mobilenet_model.layers:\n",
        "    layer.trainable = False"
      ],
      "metadata": {
        "execution": {
          "iopub.status.busy": "2024-04-01T23:28:55.142192Z",
          "iopub.execute_input": "2024-04-01T23:28:55.142829Z",
          "iopub.status.idle": "2024-04-01T23:28:56.978358Z",
          "shell.execute_reply.started": "2024-04-01T23:28:55.142797Z",
          "shell.execute_reply": "2024-04-01T23:28:56.977138Z"
        },
        "trusted": true,
        "id": "UtVZ92n2qsrQ",
        "outputId": "55c0c49c-e7bd-492a-9f8c-c448e7d27756"
      },
      "execution_count": null,
      "outputs": [
        {
          "name": "stderr",
          "text": "/tmp/ipykernel_33/1187213090.py:2: UserWarning: `input_shape` is undefined or non-square, or `rows` is not in [128, 160, 192, 224]. Weights for input shape (224, 224) will be loaded as the default.\n  mobilenet_model = MobileNet(weights='imagenet', include_top=False, input_shape=(96, 96, 3))\n",
          "output_type": "stream"
        },
        {
          "name": "stdout",
          "text": "Downloading data from https://storage.googleapis.com/tensorflow/keras-applications/mobilenet/mobilenet_1_0_224_tf_no_top.h5\n\u001b[1m17225924/17225924\u001b[0m \u001b[32m━━━━━━━━━━━━━━━━━━━━\u001b[0m\u001b[37m\u001b[0m \u001b[1m1s\u001b[0m 0us/step\n",
          "output_type": "stream"
        }
      ]
    },
    {
      "cell_type": "code",
      "source": [
        "from tensorflow.keras.applications.efficientnet import EfficientNetB4\n",
        "efficientnet_model = EfficientNetB4(weights='imagenet', include_top=False, input_shape=(96, 96, 3))\n",
        "for layer in efficientnet_model.layers:\n",
        "    layer.trainable = False"
      ],
      "metadata": {
        "execution": {
          "iopub.status.busy": "2024-04-01T23:28:56.980184Z",
          "iopub.execute_input": "2024-04-01T23:28:56.980606Z",
          "iopub.status.idle": "2024-04-01T23:29:02.942516Z",
          "shell.execute_reply.started": "2024-04-01T23:28:56.980574Z",
          "shell.execute_reply": "2024-04-01T23:29:02.941124Z"
        },
        "trusted": true,
        "id": "P7s7SuuvqsrR",
        "outputId": "1cd1c567-77d6-4f63-99a8-d90873b24384"
      },
      "execution_count": null,
      "outputs": [
        {
          "name": "stdout",
          "text": "Downloading data from https://storage.googleapis.com/keras-applications/efficientnetb4_notop.h5\n\u001b[1m71686520/71686520\u001b[0m \u001b[32m━━━━━━━━━━━━━━━━━━━━\u001b[0m\u001b[37m\u001b[0m \u001b[1m2s\u001b[0m 0us/step\n",
          "output_type": "stream"
        }
      ]
    },
    {
      "cell_type": "code",
      "source": [
        "from tensorflow.keras.applications.resnet50 import ResNet50\n",
        "model = ResNet50(include_top=True, weights='imagenet', input_shape=(224, 224, 3))\n",
        "resnext_model = ResNet50(weights='imagenet', include_top=False, input_shape=(96, 96, 3))\n",
        "for layer in resnext_model.layers:\n",
        "    layer.trainable = False"
      ],
      "metadata": {
        "execution": {
          "iopub.status.busy": "2024-04-01T23:29:02.94433Z",
          "iopub.execute_input": "2024-04-01T23:29:02.944706Z",
          "iopub.status.idle": "2024-04-01T23:29:12.205973Z",
          "shell.execute_reply.started": "2024-04-01T23:29:02.944675Z",
          "shell.execute_reply": "2024-04-01T23:29:12.204789Z"
        },
        "trusted": true,
        "id": "WCPUFA0fqsrR",
        "outputId": "30e650c9-d4d9-4ab4-d9e3-8f98c5f773af"
      },
      "execution_count": null,
      "outputs": [
        {
          "name": "stdout",
          "text": "Downloading data from https://storage.googleapis.com/tensorflow/keras-applications/resnet/resnet50_weights_tf_dim_ordering_tf_kernels.h5\n\u001b[1m102967424/102967424\u001b[0m \u001b[32m━━━━━━━━━━━━━━━━━━━━\u001b[0m\u001b[37m\u001b[0m \u001b[1m3s\u001b[0m 0us/step\nDownloading data from https://storage.googleapis.com/tensorflow/keras-applications/resnet/resnet50_weights_tf_dim_ordering_tf_kernels_notop.h5\n\u001b[1m94765736/94765736\u001b[0m \u001b[32m━━━━━━━━━━━━━━━━━━━━\u001b[0m\u001b[37m\u001b[0m \u001b[1m3s\u001b[0m 0us/step\n",
          "output_type": "stream"
        }
      ]
    },
    {
      "cell_type": "code",
      "source": [
        "def trainfun(model):\n",
        "    model = models.Sequential([\n",
        "        model,\n",
        "        layers.GlobalAveragePooling2D(),\n",
        "        layers.Dense(512, activation='relu'),\n",
        "        layers.Dropout(0.1),\n",
        "        layers.Dense(30)  # Assuming a binary classification problem\n",
        "    ])\n",
        "    model.compile(optimizer='adam',\n",
        "              loss='mean_squared_error',\n",
        "              metrics=['mae'])\n",
        "    return model"
      ],
      "metadata": {
        "id": "cuupuRDN29AV",
        "execution": {
          "iopub.status.busy": "2024-04-01T23:29:12.207432Z",
          "iopub.execute_input": "2024-04-01T23:29:12.207794Z",
          "iopub.status.idle": "2024-04-01T23:29:12.215008Z",
          "shell.execute_reply.started": "2024-04-01T23:29:12.207763Z",
          "shell.execute_reply": "2024-04-01T23:29:12.213707Z"
        },
        "trusted": true
      },
      "execution_count": null,
      "outputs": []
    },
    {
      "cell_type": "code",
      "source": [
        "model=trainfun(resnext_model)\n",
        "model.fit(X_train_rgb,y_train,epochs =5,batch_size = 256,validation_split = 0.2)"
      ],
      "metadata": {
        "id": "oNWSdfOxa2DS",
        "execution": {
          "iopub.status.busy": "2024-04-01T23:29:12.216219Z",
          "iopub.execute_input": "2024-04-01T23:29:12.216586Z",
          "iopub.status.idle": "2024-04-01T23:41:11.129098Z",
          "shell.execute_reply.started": "2024-04-01T23:29:12.216544Z",
          "shell.execute_reply": "2024-04-01T23:41:11.127979Z"
        },
        "trusted": true,
        "outputId": "f5f3c922-e5c8-4b83-a7f0-e81be0ccd72e"
      },
      "execution_count": null,
      "outputs": [
        {
          "name": "stdout",
          "text": "Epoch 1/5\n\u001b[1m18/18\u001b[0m \u001b[32m━━━━━━━━━━━━━━━━━━━━\u001b[0m\u001b[37m\u001b[0m \u001b[1m102s\u001b[0m 5s/step - loss: 1484.4110 - mae: 32.7555 - val_loss: 193.4441 - val_mae: 9.5057\nEpoch 2/5\n\u001b[1m18/18\u001b[0m \u001b[32m━━━━━━━━━━━━━━━━━━━━\u001b[0m\u001b[37m\u001b[0m \u001b[1m141s\u001b[0m 5s/step - loss: 148.9010 - mae: 9.3745 - val_loss: 67.4477 - val_mae: 6.2839\nEpoch 3/5\n\u001b[1m18/18\u001b[0m \u001b[32m━━━━━━━━━━━━━━━━━━━━\u001b[0m\u001b[37m\u001b[0m \u001b[1m142s\u001b[0m 5s/step - loss: 77.5290 - mae: 6.7403 - val_loss: 37.6809 - val_mae: 4.5498\nEpoch 4/5\n\u001b[1m18/18\u001b[0m \u001b[32m━━━━━━━━━━━━━━━━━━━━\u001b[0m\u001b[37m\u001b[0m \u001b[1m142s\u001b[0m 5s/step - loss: 51.8672 - mae: 5.4728 - val_loss: 28.2894 - val_mae: 3.8733\nEpoch 5/5\n\u001b[1m18/18\u001b[0m \u001b[32m━━━━━━━━━━━━━━━━━━━━\u001b[0m\u001b[37m\u001b[0m \u001b[1m142s\u001b[0m 5s/step - loss: 43.1938 - mae: 4.9533 - val_loss: 23.2202 - val_mae: 3.4903\n",
          "output_type": "stream"
        },
        {
          "execution_count": 22,
          "output_type": "execute_result",
          "data": {
            "text/plain": "<keras.src.callbacks.history.History at 0x7ed1da7b73d0>"
          },
          "metadata": {}
        }
      ]
    },
    {
      "cell_type": "code",
      "source": [
        "model2=trainfun(efficientnet_model)\n",
        "model2.fit(X_train_rgb,y_train,epochs =5,batch_size = 256,validation_split = 0.2)"
      ],
      "metadata": {
        "execution": {
          "iopub.status.busy": "2024-04-01T23:41:11.130694Z",
          "iopub.execute_input": "2024-04-01T23:41:11.131042Z",
          "iopub.status.idle": "2024-04-01T23:53:25.774879Z",
          "shell.execute_reply.started": "2024-04-01T23:41:11.131014Z",
          "shell.execute_reply": "2024-04-01T23:53:25.773653Z"
        },
        "trusted": true,
        "id": "9IJ0qh_aqsrS",
        "outputId": "e6ddd2aa-9f9d-4596-d972-2af7775942ab"
      },
      "execution_count": null,
      "outputs": [
        {
          "name": "stdout",
          "text": "Epoch 1/5\n\u001b[1m18/18\u001b[0m \u001b[32m━━━━━━━━━━━━━━━━━━━━\u001b[0m\u001b[37m\u001b[0m \u001b[1m145s\u001b[0m 7s/step - loss: 2150.8955 - mae: 42.2947 - val_loss: 395.5820 - val_mae: 15.5772\nEpoch 2/5\n\u001b[1m18/18\u001b[0m \u001b[32m━━━━━━━━━━━━━━━━━━━━\u001b[0m\u001b[37m\u001b[0m \u001b[1m137s\u001b[0m 6s/step - loss: 280.0997 - mae: 13.1886 - val_loss: 113.1493 - val_mae: 8.2016\nEpoch 3/5\n\u001b[1m18/18\u001b[0m \u001b[32m━━━━━━━━━━━━━━━━━━━━\u001b[0m\u001b[37m\u001b[0m \u001b[1m142s\u001b[0m 7s/step - loss: 98.6514 - mae: 7.5761 - val_loss: 50.6105 - val_mae: 5.0952\nEpoch 4/5\n\u001b[1m18/18\u001b[0m \u001b[32m━━━━━━━━━━━━━━━━━━━━\u001b[0m\u001b[37m\u001b[0m \u001b[1m141s\u001b[0m 6s/step - loss: 55.5512 - mae: 5.3673 - val_loss: 38.5260 - val_mae: 4.2299\nEpoch 5/5\n\u001b[1m18/18\u001b[0m \u001b[32m━━━━━━━━━━━━━━━━━━━━\u001b[0m\u001b[37m\u001b[0m \u001b[1m143s\u001b[0m 7s/step - loss: 43.2571 - mae: 4.6454 - val_loss: 32.3522 - val_mae: 3.9405\n",
          "output_type": "stream"
        },
        {
          "execution_count": 23,
          "output_type": "execute_result",
          "data": {
            "text/plain": "<keras.src.callbacks.history.History at 0x7ed1d8510be0>"
          },
          "metadata": {}
        }
      ]
    },
    {
      "cell_type": "code",
      "source": [
        "model3=trainfun(vgg19_model)\n",
        "model3.fit(X_train_rgb,y_train,epochs =5,batch_size = 256,validation_split = 0.2)"
      ],
      "metadata": {
        "execution": {
          "iopub.status.busy": "2024-04-01T23:53:25.776539Z",
          "iopub.execute_input": "2024-04-01T23:53:25.777055Z",
          "iopub.status.idle": "2024-04-02T00:24:35.516887Z",
          "shell.execute_reply.started": "2024-04-01T23:53:25.777025Z",
          "shell.execute_reply": "2024-04-02T00:24:35.515658Z"
        },
        "trusted": true,
        "id": "ossS6FqcqsrS",
        "outputId": "3408d84e-59ce-4409-b2d2-e35800adcad7"
      },
      "execution_count": null,
      "outputs": [
        {
          "name": "stdout",
          "text": "Epoch 1/5\n\u001b[1m18/18\u001b[0m \u001b[32m━━━━━━━━━━━━━━━━━━━━\u001b[0m\u001b[37m\u001b[0m \u001b[1m361s\u001b[0m 20s/step - loss: 1466.9417 - mae: 32.2074 - val_loss: 273.3984 - val_mae: 11.9073\nEpoch 2/5\n\u001b[1m18/18\u001b[0m \u001b[32m━━━━━━━━━━━━━━━━━━━━\u001b[0m\u001b[37m\u001b[0m \u001b[1m384s\u001b[0m 20s/step - loss: 229.0069 - mae: 11.6447 - val_loss: 138.8029 - val_mae: 9.0945\nEpoch 3/5\n\u001b[1m18/18\u001b[0m \u001b[32m━━━━━━━━━━━━━━━━━━━━\u001b[0m\u001b[37m\u001b[0m \u001b[1m360s\u001b[0m 20s/step - loss: 150.7518 - mae: 9.4315 - val_loss: 108.7550 - val_mae: 8.0666\nEpoch 4/5\n\u001b[1m18/18\u001b[0m \u001b[32m━━━━━━━━━━━━━━━━━━━━\u001b[0m\u001b[37m\u001b[0m \u001b[1m382s\u001b[0m 20s/step - loss: 123.6641 - mae: 8.5643 - val_loss: 91.6880 - val_mae: 7.3585\nEpoch 5/5\n\u001b[1m18/18\u001b[0m \u001b[32m━━━━━━━━━━━━━━━━━━━━\u001b[0m\u001b[37m\u001b[0m \u001b[1m382s\u001b[0m 20s/step - loss: 105.6342 - mae: 7.8627 - val_loss: 80.7559 - val_mae: 6.8853\n",
          "output_type": "stream"
        },
        {
          "execution_count": 24,
          "output_type": "execute_result",
          "data": {
            "text/plain": "<keras.src.callbacks.history.History at 0x7ed1c8bb2500>"
          },
          "metadata": {}
        }
      ]
    },
    {
      "cell_type": "code",
      "source": [
        "model4=trainfun(densenet_model)\n",
        "model4.fit(X_train_rgb,y_train,epochs =5,batch_size = 256,validation_split = 0.2)"
      ],
      "metadata": {
        "execution": {
          "iopub.status.busy": "2024-04-02T00:24:35.520425Z",
          "iopub.execute_input": "2024-04-02T00:24:35.521176Z",
          "iopub.status.idle": "2024-04-02T00:36:00.693062Z",
          "shell.execute_reply.started": "2024-04-02T00:24:35.521143Z",
          "shell.execute_reply": "2024-04-02T00:36:00.69129Z"
        },
        "trusted": true,
        "id": "2NnUi3ewqsrS",
        "outputId": "697d119c-097c-4a89-e948-7dfb87d83aca"
      },
      "execution_count": null,
      "outputs": [
        {
          "name": "stdout",
          "text": "Epoch 1/5\n\u001b[1m18/18\u001b[0m \u001b[32m━━━━━━━━━━━━━━━━━━━━\u001b[0m\u001b[37m\u001b[0m \u001b[1m117s\u001b[0m 6s/step - loss: 1120.9617 - mae: 26.4212 - val_loss: 231.8927 - val_mae: 12.2796\nEpoch 2/5\n\u001b[1m18/18\u001b[0m \u001b[32m━━━━━━━━━━━━━━━━━━━━\u001b[0m\u001b[37m\u001b[0m \u001b[1m96s\u001b[0m 5s/step - loss: 228.8987 - mae: 11.9610 - val_loss: 124.3937 - val_mae: 8.5608\nEpoch 3/5\n\u001b[1m18/18\u001b[0m \u001b[32m━━━━━━━━━━━━━━━━━━━━\u001b[0m\u001b[37m\u001b[0m \u001b[1m142s\u001b[0m 5s/step - loss: 141.6135 - mae: 9.2825 - val_loss: 80.5321 - val_mae: 6.7022\nEpoch 4/5\n\u001b[1m18/18\u001b[0m \u001b[32m━━━━━━━━━━━━━━━━━━━━\u001b[0m\u001b[37m\u001b[0m \u001b[1m143s\u001b[0m 5s/step - loss: 98.9215 - mae: 7.6882 - val_loss: 56.5455 - val_mae: 5.6161\nEpoch 5/5\n\u001b[1m18/18\u001b[0m \u001b[32m━━━━━━━━━━━━━━━━━━━━\u001b[0m\u001b[37m\u001b[0m \u001b[1m142s\u001b[0m 5s/step - loss: 73.7886 - mae: 6.6371 - val_loss: 45.3091 - val_mae: 5.0742\n",
          "output_type": "stream"
        },
        {
          "execution_count": 25,
          "output_type": "execute_result",
          "data": {
            "text/plain": "<keras.src.callbacks.history.History at 0x7ed1cb5592d0>"
          },
          "metadata": {}
        }
      ]
    },
    {
      "cell_type": "code",
      "source": [
        "model5=trainfun(mobilenet_model)\n",
        "model5.fit(X_train_rgb,y_train,epochs =5,batch_size = 256,validation_split = 0.2)"
      ],
      "metadata": {
        "execution": {
          "iopub.status.busy": "2024-04-02T00:36:00.712384Z",
          "iopub.execute_input": "2024-04-02T00:36:00.712868Z",
          "iopub.status.idle": "2024-04-02T00:38:58.12554Z",
          "shell.execute_reply.started": "2024-04-02T00:36:00.712829Z",
          "shell.execute_reply": "2024-04-02T00:38:58.124227Z"
        },
        "trusted": true,
        "id": "8kFDY9UMqsrT",
        "outputId": "4abf52e0-4f3f-4998-c37e-edf3e4e2b702"
      },
      "execution_count": null,
      "outputs": [
        {
          "name": "stdout",
          "text": "Epoch 1/5\n\u001b[1m18/18\u001b[0m \u001b[32m━━━━━━━━━━━━━━━━━━━━\u001b[0m\u001b[37m\u001b[0m \u001b[1m30s\u001b[0m 1s/step - loss: 1892.3571 - mae: 38.6905 - val_loss: 209.7957 - val_mae: 11.5428\nEpoch 2/5\n\u001b[1m18/18\u001b[0m \u001b[32m━━━━━━━━━━━━━━━━━━━━\u001b[0m\u001b[37m\u001b[0m \u001b[1m40s\u001b[0m 1s/step - loss: 224.1553 - mae: 11.2316 - val_loss: 83.1424 - val_mae: 7.6923\nEpoch 3/5\n\u001b[1m18/18\u001b[0m \u001b[32m━━━━━━━━━━━━━━━━━━━━\u001b[0m\u001b[37m\u001b[0m \u001b[1m41s\u001b[0m 1s/step - loss: 70.9693 - mae: 6.6856 - val_loss: 30.1498 - val_mae: 4.1475\nEpoch 4/5\n\u001b[1m18/18\u001b[0m \u001b[32m━━━━━━━━━━━━━━━━━━━━\u001b[0m\u001b[37m\u001b[0m \u001b[1m41s\u001b[0m 1s/step - loss: 37.3103 - mae: 4.6533 - val_loss: 23.2466 - val_mae: 3.5529\nEpoch 5/5\n\u001b[1m18/18\u001b[0m \u001b[32m━━━━━━━━━━━━━━━━━━━━\u001b[0m\u001b[37m\u001b[0m \u001b[1m25s\u001b[0m 1s/step - loss: 31.7413 - mae: 4.3009 - val_loss: 19.3552 - val_mae: 3.1858\n",
          "output_type": "stream"
        },
        {
          "execution_count": 26,
          "output_type": "execute_result",
          "data": {
            "text/plain": "<keras.src.callbacks.history.History at 0x7ed1b1913f40>"
          },
          "metadata": {}
        }
      ]
    },
    {
      "cell_type": "code",
      "source": [
        "#preparing test data\n",
        "timag = []\n",
        "for i in range(0,1783):\n",
        "    timg = test_data['Image'][i].split(' ')\n",
        "    timg = ['0' if x == '' else x for x in timg]\n",
        "\n",
        "    timag.append(timg)"
      ],
      "metadata": {
        "id": "KTFFr14cbaiL",
        "execution": {
          "iopub.status.busy": "2024-04-02T00:43:00.111986Z",
          "iopub.execute_input": "2024-04-02T00:43:00.112438Z",
          "iopub.status.idle": "2024-04-02T00:43:03.893769Z",
          "shell.execute_reply.started": "2024-04-02T00:43:00.112406Z",
          "shell.execute_reply": "2024-04-02T00:43:03.892356Z"
        },
        "trusted": true
      },
      "execution_count": null,
      "outputs": []
    },
    {
      "cell_type": "code",
      "source": [
        "timage_list = np.array(timag,dtype = 'float')\n",
        "X_test = timage_list.reshape(-1,96,96,1)"
      ],
      "metadata": {
        "id": "IivHrqGNcEoT",
        "execution": {
          "iopub.status.busy": "2024-04-02T00:44:22.370556Z",
          "iopub.execute_input": "2024-04-02T00:44:22.370995Z",
          "iopub.status.idle": "2024-04-02T00:44:25.70354Z",
          "shell.execute_reply.started": "2024-04-02T00:44:22.370959Z",
          "shell.execute_reply": "2024-04-02T00:44:25.70244Z"
        },
        "trusted": true
      },
      "execution_count": null,
      "outputs": []
    },
    {
      "cell_type": "code",
      "source": [
        "X_test.shape"
      ],
      "metadata": {
        "id": "40DR1okOp0C0",
        "execution": {
          "iopub.status.busy": "2024-04-02T00:43:43.550904Z",
          "iopub.execute_input": "2024-04-02T00:43:43.551835Z",
          "iopub.status.idle": "2024-04-02T00:43:43.560538Z",
          "shell.execute_reply.started": "2024-04-02T00:43:43.551797Z",
          "shell.execute_reply": "2024-04-02T00:43:43.559338Z"
        },
        "trusted": true,
        "outputId": "623d71d5-ded9-4900-84c9-72dee75cf2b7"
      },
      "execution_count": null,
      "outputs": [
        {
          "execution_count": 44,
          "output_type": "execute_result",
          "data": {
            "text/plain": "(1783, 96, 96, 1)"
          },
          "metadata": {}
        }
      ]
    },
    {
      "cell_type": "code",
      "source": [
        "tf_tensor = tf.convert_to_tensor(X_test, dtype=tf.float32)\n",
        "# Assuming X_train is your grayscale image dataset with shape (num_images, 96, 96, 1)\n",
        "X_test = tf.image.grayscale_to_rgb(tf_tensor)"
      ],
      "metadata": {
        "id": "MSXunKEmpfDd",
        "execution": {
          "iopub.status.busy": "2024-04-02T00:44:31.163281Z",
          "iopub.execute_input": "2024-04-02T00:44:31.163731Z",
          "iopub.status.idle": "2024-04-02T00:44:31.452922Z",
          "shell.execute_reply.started": "2024-04-02T00:44:31.163698Z",
          "shell.execute_reply": "2024-04-02T00:44:31.45173Z"
        },
        "trusted": true
      },
      "execution_count": null,
      "outputs": []
    },
    {
      "cell_type": "code",
      "source": [
        "pred1 = model.predict(X_test)\n",
        "pred2 = model2.predict(X_test)\n",
        "pred3 = model3.predict(X_test)\n",
        "pred4 = model4.predict(X_test)\n",
        "pred5 = model5.predict(X_test)"
      ],
      "metadata": {
        "execution": {
          "iopub.status.busy": "2024-04-02T00:44:35.931442Z",
          "iopub.execute_input": "2024-04-02T00:44:35.932273Z",
          "iopub.status.idle": "2024-04-02T00:49:00.06748Z",
          "shell.execute_reply.started": "2024-04-02T00:44:35.932217Z",
          "shell.execute_reply": "2024-04-02T00:49:00.066396Z"
        },
        "trusted": true,
        "id": "mI3tHnAVqsrU",
        "outputId": "38bab977-e5a9-459d-de5d-08bda69cbe72"
      },
      "execution_count": null,
      "outputs": [
        {
          "name": "stdout",
          "text": "\u001b[1m56/56\u001b[0m \u001b[32m━━━━━━━━━━━━━━━━━━━━\u001b[0m\u001b[37m\u001b[0m \u001b[1m28s\u001b[0m 500ms/step\n\u001b[1m56/56\u001b[0m \u001b[32m━━━━━━━━━━━━━━━━━━━━\u001b[0m\u001b[37m\u001b[0m \u001b[1m32s\u001b[0m 564ms/step\n\u001b[1m56/56\u001b[0m \u001b[32m━━━━━━━━━━━━━━━━━━━━\u001b[0m\u001b[37m\u001b[0m \u001b[1m112s\u001b[0m 2s/step\n\u001b[1m56/56\u001b[0m \u001b[32m━━━━━━━━━━━━━━━━━━━━\u001b[0m\u001b[37m\u001b[0m \u001b[1m34s\u001b[0m 530ms/step\n\u001b[1m56/56\u001b[0m \u001b[32m━━━━━━━━━━━━━━━━━━━━\u001b[0m\u001b[37m\u001b[0m \u001b[1m8s\u001b[0m 132ms/step\n",
          "output_type": "stream"
        }
      ]
    },
    {
      "cell_type": "code",
      "source": [
        "pred=(pred5+pred4)/2"
      ],
      "metadata": {
        "id": "L8ru8xUha9MD",
        "execution": {
          "iopub.status.busy": "2024-04-02T00:57:44.42444Z",
          "iopub.execute_input": "2024-04-02T00:57:44.425187Z",
          "iopub.status.idle": "2024-04-02T00:57:44.430519Z",
          "shell.execute_reply.started": "2024-04-02T00:57:44.42515Z",
          "shell.execute_reply": "2024-04-02T00:57:44.429359Z"
        },
        "trusted": true
      },
      "execution_count": null,
      "outputs": []
    },
    {
      "cell_type": "code",
      "source": [
        "lookid_data = pd.read_csv('/kaggle/input/facial-keypoints-detection/IdLookupTable.csv')\n",
        "lookid_list = list(lookid_data['FeatureName'])\n",
        "imageID = list(lookid_data['ImageId']-1)\n",
        "pre_list = list(pred)\n",
        "rowid = lookid_data['RowId']\n",
        "rowid=list(rowid)\n",
        "feature = []\n",
        "for f in list(lookid_data['FeatureName']):\n",
        "    feature.append(lookid_list.index(f))\n",
        "preded = []\n",
        "for x,y in zip(imageID,feature):\n",
        "    preded.append(pre_list[x][y])\n",
        "rowid = pd.Series(rowid,name = 'RowId')\n",
        "loc = pd.Series(preded,name = 'Location')\n",
        "submission = pd.concat([rowid,loc],axis = 1)\n",
        "submission.to_csv('/kaggle/working/face_key_detection_submission.csv',index = False)"
      ],
      "metadata": {
        "id": "0RibNmMn6ZxW",
        "execution": {
          "iopub.status.busy": "2024-04-02T00:57:47.138661Z",
          "iopub.execute_input": "2024-04-02T00:57:47.139365Z",
          "iopub.status.idle": "2024-04-02T00:57:47.31225Z",
          "shell.execute_reply.started": "2024-04-02T00:57:47.139315Z",
          "shell.execute_reply": "2024-04-02T00:57:47.310934Z"
        },
        "trusted": true
      },
      "execution_count": null,
      "outputs": []
    },
    {
      "cell_type": "code",
      "source": [
        "fd=pd.read_csv('/kaggle/working/face_key_detection_submission.csv')"
      ],
      "metadata": {
        "id": "Zc_a61AbsEv-",
        "execution": {
          "iopub.status.busy": "2024-04-02T00:57:50.047017Z",
          "iopub.execute_input": "2024-04-02T00:57:50.047777Z",
          "iopub.status.idle": "2024-04-02T00:57:50.064461Z",
          "shell.execute_reply.started": "2024-04-02T00:57:50.047729Z",
          "shell.execute_reply": "2024-04-02T00:57:50.063195Z"
        },
        "trusted": true
      },
      "execution_count": null,
      "outputs": []
    },
    {
      "cell_type": "markdown",
      "source": [],
      "metadata": {
        "id": "TeA6wu_js-Vk"
      }
    },
    {
      "cell_type": "code",
      "source": [
        "fd[fd['Location'] > 96]"
      ],
      "metadata": {
        "id": "fm1HIi4F7POd",
        "execution": {
          "iopub.status.busy": "2024-04-02T00:57:51.543654Z",
          "iopub.execute_input": "2024-04-02T00:57:51.544083Z",
          "iopub.status.idle": "2024-04-02T00:57:51.555664Z",
          "shell.execute_reply.started": "2024-04-02T00:57:51.544045Z",
          "shell.execute_reply": "2024-04-02T00:57:51.554628Z"
        },
        "trusted": true,
        "outputId": "7241a4d1-87d9-4951-dba5-e6181ea4a1e0"
      },
      "execution_count": null,
      "outputs": [
        {
          "execution_count": 85,
          "output_type": "execute_result",
          "data": {
            "text/plain": "       RowId    Location\n9462    9463   96.039640\n9477    9478   97.489160\n15121  15122   96.277070\n22483  22484  103.636505\n23795  23796   99.541565",
            "text/html": "<div>\n<style scoped>\n    .dataframe tbody tr th:only-of-type {\n        vertical-align: middle;\n    }\n\n    .dataframe tbody tr th {\n        vertical-align: top;\n    }\n\n    .dataframe thead th {\n        text-align: right;\n    }\n</style>\n<table border=\"1\" class=\"dataframe\">\n  <thead>\n    <tr style=\"text-align: right;\">\n      <th></th>\n      <th>RowId</th>\n      <th>Location</th>\n    </tr>\n  </thead>\n  <tbody>\n    <tr>\n      <th>9462</th>\n      <td>9463</td>\n      <td>96.039640</td>\n    </tr>\n    <tr>\n      <th>9477</th>\n      <td>9478</td>\n      <td>97.489160</td>\n    </tr>\n    <tr>\n      <th>15121</th>\n      <td>15122</td>\n      <td>96.277070</td>\n    </tr>\n    <tr>\n      <th>22483</th>\n      <td>22484</td>\n      <td>103.636505</td>\n    </tr>\n    <tr>\n      <th>23795</th>\n      <td>23796</td>\n      <td>99.541565</td>\n    </tr>\n  </tbody>\n</table>\n</div>"
          },
          "metadata": {}
        }
      ]
    },
    {
      "cell_type": "code",
      "source": [
        "fd.loc[fd['Location'] > 96, 'Location'] = 95\n",
        "submission = fd"
      ],
      "metadata": {
        "id": "wJO5gNR2sN6l",
        "execution": {
          "iopub.status.busy": "2024-04-02T00:57:54.978457Z",
          "iopub.execute_input": "2024-04-02T00:57:54.978901Z",
          "iopub.status.idle": "2024-04-02T00:57:54.985764Z",
          "shell.execute_reply.started": "2024-04-02T00:57:54.978867Z",
          "shell.execute_reply": "2024-04-02T00:57:54.984512Z"
        },
        "trusted": true
      },
      "execution_count": null,
      "outputs": []
    },
    {
      "cell_type": "code",
      "source": [
        "submission.to_csv('/kaggle/working/face_key_detection_submission.csv',index = False)"
      ],
      "metadata": {
        "id": "n74cnqEhtVyN",
        "execution": {
          "iopub.status.busy": "2024-04-02T00:57:57.736525Z",
          "iopub.execute_input": "2024-04-02T00:57:57.737249Z",
          "iopub.status.idle": "2024-04-02T00:57:57.811925Z",
          "shell.execute_reply.started": "2024-04-02T00:57:57.737211Z",
          "shell.execute_reply": "2024-04-02T00:57:57.810696Z"
        },
        "trusted": true
      },
      "execution_count": null,
      "outputs": []
    }
  ]
}