{
  "metadata": {
    "kernelspec": {
      "language": "python",
      "display_name": "Python 3",
      "name": "python3"
    },
    "language_info": {
      "name": "python",
      "version": "3.10.13",
      "mimetype": "text/x-python",
      "codemirror_mode": {
        "name": "ipython",
        "version": 3
      },
      "pygments_lexer": "ipython3",
      "nbconvert_exporter": "python",
      "file_extension": ".py"
    },
    "kaggle": {
      "accelerator": "gpu",
      "dataSources": [
        {
          "sourceId": 71485,
          "databundleVersionId": 8059942,
          "sourceType": "competition"
        }
      ],
      "dockerImageVersionId": 30732,
      "isInternetEnabled": false,
      "language": "python",
      "sourceType": "notebook",
      "isGpuEnabled": true
    },
    "colab": {
      "name": "learning-agency-lab-automated-essay-scoring",
      "provenance": [],
      "include_colab_link": true
    }
  },
  "nbformat_minor": 0,
  "nbformat": 4,
  "cells": [
    {
      "cell_type": "markdown",
      "metadata": {
        "id": "view-in-github",
        "colab_type": "text"
      },
      "source": [
        "<a href=\"https://colab.research.google.com/github/MissoumYoucef/Kaggle_Competition/blob/main/learning_agency_lab_automated_essay_scoring.ipynb\" target=\"_parent\"><img src=\"https://colab.research.google.com/assets/colab-badge.svg\" alt=\"Open In Colab\"/></a>"
      ]
    },
    {
      "source": [
        "\n",
        "# IMPORTANT: RUN THIS CELL IN ORDER TO IMPORT YOUR KAGGLE DATA SOURCES\n",
        "# TO THE CORRECT LOCATION (/kaggle/input) IN YOUR NOTEBOOK,\n",
        "# THEN FEEL FREE TO DELETE THIS CELL.\n",
        "# NOTE: THIS NOTEBOOK ENVIRONMENT DIFFERS FROM KAGGLE'S PYTHON\n",
        "# ENVIRONMENT SO THERE MAY BE MISSING LIBRARIES USED BY YOUR\n",
        "# NOTEBOOK.\n",
        "\n",
        "import os\n",
        "import sys\n",
        "from tempfile import NamedTemporaryFile\n",
        "from urllib.request import urlopen\n",
        "from urllib.parse import unquote, urlparse\n",
        "from urllib.error import HTTPError\n",
        "from zipfile import ZipFile\n",
        "import tarfile\n",
        "import shutil\n",
        "\n",
        "CHUNK_SIZE = 40960\n",
        "DATA_SOURCE_MAPPING = 'learning-agency-lab-automated-essay-scoring-2:https%3A%2F%2Fstorage.googleapis.com%2Fkaggle-competitions-data%2Fkaggle-v2%2F71485%2F8059942%2Fbundle%2Farchive.zip%3FX-Goog-Algorithm%3DGOOG4-RSA-SHA256%26X-Goog-Credential%3Dgcp-kaggle-com%2540kaggle-161607.iam.gserviceaccount.com%252F20240608%252Fauto%252Fstorage%252Fgoog4_request%26X-Goog-Date%3D20240608T173248Z%26X-Goog-Expires%3D259200%26X-Goog-SignedHeaders%3Dhost%26X-Goog-Signature%3D73b75b7fb3f6996d34b0c40293a2c4f168792d5edc5300f039110076cca426fb68246483b55dc456338aa4d7c7e0b7c0739019edc2767061077517d47e5d7913ed1eae3b8e04ac9c6e2d979c23d3c62118a5053684732fd2cf7ffa6d35382e72dbbb3cebb1098f25f9e8e316a119abc1aeb1897f3cb9a9d3981964502509d1e14e6cc5686a874f49cf8d85fe6ffa1e22e0bf7726971d1203452d8fa78c90e936cc376124fd1817c67ce0ede22debcd3be9da65afd50ddf2872bae9c7dad16bdd4a084c445b560e59622d4eaf4e2ef8520adddd0889aa5d97e92e3c10bbff4766c0a31e5504b3fce45f8960176c0c53895ba29ebaac17d5abb2daaa3e4caed575'\n",
        "\n",
        "KAGGLE_INPUT_PATH='/kaggle/input'\n",
        "KAGGLE_WORKING_PATH='/kaggle/working'\n",
        "KAGGLE_SYMLINK='kaggle'\n",
        "\n",
        "!umount /kaggle/input/ 2> /dev/null\n",
        "shutil.rmtree('/kaggle/input', ignore_errors=True)\n",
        "os.makedirs(KAGGLE_INPUT_PATH, 0o777, exist_ok=True)\n",
        "os.makedirs(KAGGLE_WORKING_PATH, 0o777, exist_ok=True)\n",
        "\n",
        "try:\n",
        "  os.symlink(KAGGLE_INPUT_PATH, os.path.join(\"..\", 'input'), target_is_directory=True)\n",
        "except FileExistsError:\n",
        "  pass\n",
        "try:\n",
        "  os.symlink(KAGGLE_WORKING_PATH, os.path.join(\"..\", 'working'), target_is_directory=True)\n",
        "except FileExistsError:\n",
        "  pass\n",
        "\n",
        "for data_source_mapping in DATA_SOURCE_MAPPING.split(','):\n",
        "    directory, download_url_encoded = data_source_mapping.split(':')\n",
        "    download_url = unquote(download_url_encoded)\n",
        "    filename = urlparse(download_url).path\n",
        "    destination_path = os.path.join(KAGGLE_INPUT_PATH, directory)\n",
        "    try:\n",
        "        with urlopen(download_url) as fileres, NamedTemporaryFile() as tfile:\n",
        "            total_length = fileres.headers['content-length']\n",
        "            print(f'Downloading {directory}, {total_length} bytes compressed')\n",
        "            dl = 0\n",
        "            data = fileres.read(CHUNK_SIZE)\n",
        "            while len(data) > 0:\n",
        "                dl += len(data)\n",
        "                tfile.write(data)\n",
        "                done = int(50 * dl / int(total_length))\n",
        "                sys.stdout.write(f\"\\r[{'=' * done}{' ' * (50-done)}] {dl} bytes downloaded\")\n",
        "                sys.stdout.flush()\n",
        "                data = fileres.read(CHUNK_SIZE)\n",
        "            if filename.endswith('.zip'):\n",
        "              with ZipFile(tfile) as zfile:\n",
        "                zfile.extractall(destination_path)\n",
        "            else:\n",
        "              with tarfile.open(tfile.name) as tarfile:\n",
        "                tarfile.extractall(destination_path)\n",
        "            print(f'\\nDownloaded and uncompressed: {directory}')\n",
        "    except HTTPError as e:\n",
        "        print(f'Failed to load (likely expired) {download_url} to path {destination_path}')\n",
        "        continue\n",
        "    except OSError as e:\n",
        "        print(f'Failed to load {download_url} to path {destination_path}')\n",
        "        continue\n",
        "\n",
        "print('Data source import complete.')\n"
      ],
      "metadata": {
        "id": "pyuHuNYn6OBn"
      },
      "cell_type": "code",
      "outputs": [],
      "execution_count": null
    },
    {
      "cell_type": "code",
      "source": [
        "# This Python 3 environment comes with many helpful analytics libraries installed\n",
        "# It is defined by the kaggle/python Docker image: https://github.com/kaggle/docker-python\n",
        "# For example, here's several helpful packages to load\n",
        "import numpy as np # linear algebra\n",
        "import pandas as pd # data processing, CSV file I/O (e.g. pd.read_csv)\n",
        "\n",
        "# Input data files are available in the read-only \"../input/\" directory\n",
        "# For example, running this (by clicking run or pressing Shift+Enter) will list all files under the input directory\n",
        "\n",
        "import os\n",
        "for dirname, _, filenames in os.walk('/kaggle/input'):\n",
        "    for filename in filenames:\n",
        "        print(os.path.join(dirname, filename))\n",
        "\n",
        "# You can write up to 20GB to the current directory (/kaggle/working/) that gets preserved as output when you create a version using \"Save & Run All\"\n",
        "# You can also write temporary files to /kaggle/temp/, but they won't be saved outside of the current session"
      ],
      "metadata": {
        "_uuid": "8f2839f25d086af736a60e9eeb907d3b93b6e0e5",
        "_cell_guid": "b1076dfc-b9ad-4769-8c92-a6c4dae69d19",
        "execution": {
          "iopub.status.busy": "2024-06-08T17:23:43.446099Z",
          "iopub.execute_input": "2024-06-08T17:23:43.446451Z",
          "iopub.status.idle": "2024-06-08T17:23:44.510724Z",
          "shell.execute_reply.started": "2024-06-08T17:23:43.446424Z",
          "shell.execute_reply": "2024-06-08T17:23:44.509762Z"
        },
        "trusted": true,
        "id": "OaEV60Mz6OBx",
        "outputId": "4f60db53-4a68-4236-e084-b6d933e9a476"
      },
      "execution_count": null,
      "outputs": [
        {
          "name": "stdout",
          "text": "/kaggle/input/learning-agency-lab-automated-essay-scoring-2/sample_submission.csv\n/kaggle/input/learning-agency-lab-automated-essay-scoring-2/train.csv\n/kaggle/input/learning-agency-lab-automated-essay-scoring-2/test.csv\n",
          "output_type": "stream"
        }
      ]
    },
    {
      "cell_type": "code",
      "source": [
        "train_df = pd.read_csv('/kaggle/input/learning-agency-lab-automated-essay-scoring-2/train.csv')\n",
        "test_df = pd.read_csv('/kaggle/input/learning-agency-lab-automated-essay-scoring-2/test.csv')"
      ],
      "metadata": {
        "execution": {
          "iopub.status.busy": "2024-06-08T17:24:43.906061Z",
          "iopub.execute_input": "2024-06-08T17:24:43.906555Z",
          "iopub.status.idle": "2024-06-08T17:24:44.910203Z",
          "shell.execute_reply.started": "2024-06-08T17:24:43.906523Z",
          "shell.execute_reply": "2024-06-08T17:24:44.90943Z"
        },
        "trusted": true,
        "id": "V354Ckov6OBz"
      },
      "execution_count": null,
      "outputs": []
    },
    {
      "cell_type": "code",
      "source": [
        "train_df.shape"
      ],
      "metadata": {
        "execution": {
          "iopub.status.busy": "2024-06-08T16:36:59.214358Z",
          "iopub.execute_input": "2024-06-08T16:36:59.214776Z",
          "iopub.status.idle": "2024-06-08T16:36:59.222412Z",
          "shell.execute_reply.started": "2024-06-08T16:36:59.214742Z",
          "shell.execute_reply": "2024-06-08T16:36:59.221273Z"
        },
        "trusted": true,
        "id": "lLKuuyq46OB1",
        "outputId": "e156a18e-5d7e-400a-a23f-bc7f2ddf48fb"
      },
      "execution_count": null,
      "outputs": [
        {
          "execution_count": 15,
          "output_type": "execute_result",
          "data": {
            "text/plain": "(17307, 3)"
          },
          "metadata": {}
        }
      ]
    },
    {
      "cell_type": "code",
      "source": [
        "train_df.columns"
      ],
      "metadata": {
        "execution": {
          "iopub.status.busy": "2024-06-08T16:37:01.629911Z",
          "iopub.execute_input": "2024-06-08T16:37:01.630362Z",
          "iopub.status.idle": "2024-06-08T16:37:01.638297Z",
          "shell.execute_reply.started": "2024-06-08T16:37:01.630321Z",
          "shell.execute_reply": "2024-06-08T16:37:01.636967Z"
        },
        "trusted": true,
        "id": "O4wdLyot6OB1",
        "outputId": "9e82373d-71ac-4e21-e1a9-511f219bcaf0"
      },
      "execution_count": null,
      "outputs": [
        {
          "execution_count": 16,
          "output_type": "execute_result",
          "data": {
            "text/plain": "Index(['essay_id', 'full_text', 'score'], dtype='object')"
          },
          "metadata": {}
        }
      ]
    },
    {
      "cell_type": "code",
      "source": [
        "train_df.info()"
      ],
      "metadata": {
        "execution": {
          "iopub.status.busy": "2024-06-08T16:37:03.990024Z",
          "iopub.execute_input": "2024-06-08T16:37:03.991619Z",
          "iopub.status.idle": "2024-06-08T16:37:04.021343Z",
          "shell.execute_reply.started": "2024-06-08T16:37:03.991564Z",
          "shell.execute_reply": "2024-06-08T16:37:04.019832Z"
        },
        "trusted": true,
        "id": "31bACCtF6OB2",
        "outputId": "c5679a13-c9c3-48f5-b67e-c7ed1c060998"
      },
      "execution_count": null,
      "outputs": [
        {
          "name": "stdout",
          "text": "<class 'pandas.core.frame.DataFrame'>\nRangeIndex: 17307 entries, 0 to 17306\nData columns (total 3 columns):\n #   Column     Non-Null Count  Dtype \n---  ------     --------------  ----- \n 0   essay_id   17307 non-null  object\n 1   full_text  17307 non-null  object\n 2   score      17307 non-null  int64 \ndtypes: int64(1), object(2)\nmemory usage: 405.8+ KB\n",
          "output_type": "stream"
        }
      ]
    },
    {
      "cell_type": "code",
      "source": [
        "train_df.head()"
      ],
      "metadata": {
        "execution": {
          "iopub.status.busy": "2024-06-08T16:37:05.890252Z",
          "iopub.execute_input": "2024-06-08T16:37:05.890692Z",
          "iopub.status.idle": "2024-06-08T16:37:05.903538Z",
          "shell.execute_reply.started": "2024-06-08T16:37:05.890658Z",
          "shell.execute_reply": "2024-06-08T16:37:05.902049Z"
        },
        "trusted": true,
        "id": "s-Ev_RIb6OB3",
        "outputId": "22951913-a425-424a-a5d2-b535bd46f3db"
      },
      "execution_count": null,
      "outputs": [
        {
          "execution_count": 18,
          "output_type": "execute_result",
          "data": {
            "text/plain": "  essay_id                                          full_text  score\n0  000d118  Many people have car where they live. The thin...      3\n1  000fe60  I am a scientist at NASA that is discussing th...      3\n2  001ab80  People always wish they had the same technolog...      4\n3  001bdc0  We all heard about Venus, the planet without a...      4\n4  002ba53  Dear, State Senator\\n\\nThis is a letter to arg...      3",
            "text/html": "<div>\n<style scoped>\n    .dataframe tbody tr th:only-of-type {\n        vertical-align: middle;\n    }\n\n    .dataframe tbody tr th {\n        vertical-align: top;\n    }\n\n    .dataframe thead th {\n        text-align: right;\n    }\n</style>\n<table border=\"1\" class=\"dataframe\">\n  <thead>\n    <tr style=\"text-align: right;\">\n      <th></th>\n      <th>essay_id</th>\n      <th>full_text</th>\n      <th>score</th>\n    </tr>\n  </thead>\n  <tbody>\n    <tr>\n      <th>0</th>\n      <td>000d118</td>\n      <td>Many people have car where they live. The thin...</td>\n      <td>3</td>\n    </tr>\n    <tr>\n      <th>1</th>\n      <td>000fe60</td>\n      <td>I am a scientist at NASA that is discussing th...</td>\n      <td>3</td>\n    </tr>\n    <tr>\n      <th>2</th>\n      <td>001ab80</td>\n      <td>People always wish they had the same technolog...</td>\n      <td>4</td>\n    </tr>\n    <tr>\n      <th>3</th>\n      <td>001bdc0</td>\n      <td>We all heard about Venus, the planet without a...</td>\n      <td>4</td>\n    </tr>\n    <tr>\n      <th>4</th>\n      <td>002ba53</td>\n      <td>Dear, State Senator\\n\\nThis is a letter to arg...</td>\n      <td>3</td>\n    </tr>\n  </tbody>\n</table>\n</div>"
          },
          "metadata": {}
        }
      ]
    },
    {
      "cell_type": "code",
      "source": [
        "# train_df['score'].unique()"
      ],
      "metadata": {
        "execution": {
          "iopub.status.busy": "2024-06-07T17:00:40.761638Z",
          "iopub.execute_input": "2024-06-07T17:00:40.762064Z",
          "iopub.status.idle": "2024-06-07T17:00:40.771848Z",
          "shell.execute_reply.started": "2024-06-07T17:00:40.762029Z",
          "shell.execute_reply": "2024-06-07T17:00:40.770713Z"
        },
        "trusted": true,
        "id": "oQiBGoCK6OB5",
        "outputId": "4d7e7cff-d2d6-441b-bcfe-a09dd8d21351"
      },
      "execution_count": null,
      "outputs": [
        {
          "execution_count": 10,
          "output_type": "execute_result",
          "data": {
            "text/plain": "array([3, 4, 2, 1, 5, 6])"
          },
          "metadata": {}
        }
      ]
    },
    {
      "cell_type": "code",
      "source": [
        "# # Create a new column 'word_count'\n",
        "# word_count = train_df['full_text'].apply(lambda text: len(str(text).split()))"
      ],
      "metadata": {
        "execution": {
          "iopub.status.busy": "2024-06-07T17:04:50.937758Z",
          "iopub.execute_input": "2024-06-07T17:04:50.93853Z",
          "iopub.status.idle": "2024-06-07T17:04:51.4555Z",
          "shell.execute_reply.started": "2024-06-07T17:04:50.938494Z",
          "shell.execute_reply": "2024-06-07T17:04:51.454266Z"
        },
        "trusted": true,
        "id": "JZYQQDDj6OB6"
      },
      "execution_count": null,
      "outputs": []
    },
    {
      "cell_type": "code",
      "source": [
        "# word_count.unique()"
      ],
      "metadata": {
        "execution": {
          "iopub.status.busy": "2024-06-07T17:05:50.857902Z",
          "iopub.execute_input": "2024-06-07T17:05:50.858945Z",
          "iopub.status.idle": "2024-06-07T17:05:50.863426Z",
          "shell.execute_reply.started": "2024-06-07T17:05:50.858901Z",
          "shell.execute_reply": "2024-06-07T17:05:50.862166Z"
        },
        "trusted": true,
        "id": "DtiuwmaF6OB8"
      },
      "execution_count": null,
      "outputs": []
    },
    {
      "cell_type": "code",
      "source": [
        "# len(word_count.unique())"
      ],
      "metadata": {
        "execution": {
          "iopub.status.busy": "2024-06-07T17:05:32.478383Z",
          "iopub.execute_input": "2024-06-07T17:05:32.479615Z",
          "iopub.status.idle": "2024-06-07T17:05:32.487464Z",
          "shell.execute_reply.started": "2024-06-07T17:05:32.479568Z",
          "shell.execute_reply": "2024-06-07T17:05:32.486191Z"
        },
        "trusted": true,
        "id": "uaH9YWEM6OB9",
        "outputId": "07a5290c-b769-4420-85ca-1204f7e99bcd"
      },
      "execution_count": null,
      "outputs": [
        {
          "execution_count": 15,
          "output_type": "execute_result",
          "data": {
            "text/plain": "793"
          },
          "metadata": {}
        }
      ]
    },
    {
      "cell_type": "code",
      "source": [
        "# train_df['word_count']=word_count\n",
        "# train_df.columns"
      ],
      "metadata": {
        "execution": {
          "iopub.status.busy": "2024-06-07T17:06:40.79723Z",
          "iopub.execute_input": "2024-06-07T17:06:40.797638Z",
          "iopub.status.idle": "2024-06-07T17:06:40.806329Z",
          "shell.execute_reply.started": "2024-06-07T17:06:40.797607Z",
          "shell.execute_reply": "2024-06-07T17:06:40.805302Z"
        },
        "trusted": true,
        "id": "zb5Ez5Ot6OB9",
        "outputId": "69b868d2-e24f-4771-84e2-526363fa7729"
      },
      "execution_count": null,
      "outputs": [
        {
          "execution_count": 19,
          "output_type": "execute_result",
          "data": {
            "text/plain": "Index(['essay_id', 'full_text', 'score', 'word_count'], dtype='object')"
          },
          "metadata": {}
        }
      ]
    },
    {
      "cell_type": "code",
      "source": [
        "# train_df = pd.get_dummies(train_df, columns=['score'], prefix='score')"
      ],
      "metadata": {
        "execution": {
          "iopub.status.busy": "2024-06-07T18:33:34.876642Z",
          "iopub.execute_input": "2024-06-07T18:33:34.877045Z",
          "iopub.status.idle": "2024-06-07T18:33:34.902417Z",
          "shell.execute_reply.started": "2024-06-07T18:33:34.877015Z",
          "shell.execute_reply": "2024-06-07T18:33:34.901268Z"
        },
        "trusted": true,
        "id": "WafVIzcv6OB-"
      },
      "execution_count": null,
      "outputs": []
    },
    {
      "cell_type": "code",
      "source": [
        "from sklearn.model_selection import train_test_split\n",
        "# Split the data into training and validation sets\n",
        "train_texts, val_texts, train_scores, val_scores = train_test_split(\n",
        "    train_df['full_text'],\n",
        "    train_df['score'],\n",
        "    test_size=0.2,\n",
        "    random_state=42\n",
        ")"
      ],
      "metadata": {
        "execution": {
          "iopub.status.busy": "2024-06-08T16:43:47.445644Z",
          "iopub.execute_input": "2024-06-08T16:43:47.446054Z",
          "iopub.status.idle": "2024-06-08T16:43:47.4582Z",
          "shell.execute_reply.started": "2024-06-08T16:43:47.446017Z",
          "shell.execute_reply": "2024-06-08T16:43:47.45696Z"
        },
        "trusted": true,
        "id": "GB41Az7r6OB_"
      },
      "execution_count": null,
      "outputs": []
    },
    {
      "cell_type": "markdown",
      "source": [
        "# **TF_IDF**"
      ],
      "metadata": {
        "id": "RogtHiul6OB_"
      }
    },
    {
      "cell_type": "code",
      "source": [
        "# # Import necessary libraries\n",
        "# from sklearn.feature_extraction.text import TfidfVectorizer\n",
        "# from sklearn.linear_model import LogisticRegression\n",
        "# from sklearn.metrics import cohen_kappa_score, make_scorer"
      ],
      "metadata": {
        "execution": {
          "iopub.status.busy": "2024-06-08T16:37:19.470286Z",
          "iopub.execute_input": "2024-06-08T16:37:19.470702Z",
          "iopub.status.idle": "2024-06-08T16:37:19.476493Z",
          "shell.execute_reply.started": "2024-06-08T16:37:19.470669Z",
          "shell.execute_reply": "2024-06-08T16:37:19.47518Z"
        },
        "trusted": true,
        "id": "44GsCp_n6OCB"
      },
      "execution_count": null,
      "outputs": []
    },
    {
      "cell_type": "code",
      "source": [
        "# # Create a TF-IDF vectorizer to convert text data into numerical features\n",
        "# vectorizer = TfidfVectorizer(max_features=5000)\n",
        "# train_features = vectorizer.fit_transform(train_texts)\n",
        "# val_features = vectorizer.transform(val_texts)"
      ],
      "metadata": {
        "execution": {
          "iopub.status.busy": "2024-06-07T20:20:19.866603Z",
          "iopub.execute_input": "2024-06-07T20:20:19.867009Z",
          "iopub.status.idle": "2024-06-07T20:20:27.554468Z",
          "shell.execute_reply.started": "2024-06-07T20:20:19.866958Z",
          "shell.execute_reply": "2024-06-07T20:20:27.553294Z"
        },
        "trusted": true,
        "id": "-qylzosp6OCC"
      },
      "execution_count": null,
      "outputs": []
    },
    {
      "cell_type": "markdown",
      "source": [
        "# **BOW**"
      ],
      "metadata": {
        "id": "ULL3y8Mm6OCC"
      }
    },
    {
      "cell_type": "code",
      "source": [
        "# from sklearn.feature_extraction.text import CountVectorizer\n",
        "\n",
        "# vectorizer = CountVectorizer(max_features=5000)  # You can adjust max_features\n",
        "# train_features = vectorizer.fit_transform(train_texts)\n",
        "# val_features = vectorizer.transform(val_texts)"
      ],
      "metadata": {
        "execution": {
          "iopub.status.busy": "2024-06-08T16:37:21.762275Z",
          "iopub.execute_input": "2024-06-08T16:37:21.762664Z",
          "iopub.status.idle": "2024-06-08T16:37:29.584415Z",
          "shell.execute_reply.started": "2024-06-08T16:37:21.762636Z",
          "shell.execute_reply": "2024-06-08T16:37:29.583196Z"
        },
        "trusted": true,
        "id": "XSbn9cpW6OCC"
      },
      "execution_count": null,
      "outputs": []
    },
    {
      "cell_type": "markdown",
      "source": [
        "# **Word Embeddings:**"
      ],
      "metadata": {
        "id": "4AMxiL756OCD"
      }
    },
    {
      "cell_type": "code",
      "source": [
        "# import gensim  # You'll need to install gensim: pip install gensim\n",
        "\n",
        "# # Load a pre-trained Word2Vec model (or train your own)\n",
        "# model = gensim.models.Word2Vec.load('path/to/word2vec/model')\n",
        "\n",
        "# def get_doc_vector(text):\n",
        "#     words = text.split()\n",
        "#     vectors = [model.wv[word] for word in words if word in model.wv]\n",
        "#     if vectors:\n",
        "#         return np.mean(vectors, axis=0)\n",
        "#     else:\n",
        "#         return np.zeros(model.vector_size) # Return a zero vector if no words are found\n",
        "\n",
        "# train_features = np.array([get_doc_vector(text) for text in train_texts])\n",
        "# val_features = np.array([get_doc_vector(text) for text in val_texts])"
      ],
      "metadata": {
        "trusted": true,
        "id": "irXYuzBM6OCD"
      },
      "execution_count": null,
      "outputs": []
    },
    {
      "cell_type": "markdown",
      "source": [
        "# **Bert**"
      ],
      "metadata": {
        "id": "pKTxAY7Y6OCG"
      }
    },
    {
      "cell_type": "code",
      "source": [
        "# from transformers import BertTokenizer, BertModel\n",
        "# import torch\n",
        "\n",
        "# tokenizer = BertTokenizer.from_pretrained('bert-base-uncased')\n",
        "# model = BertModel.from_pretrained('bert-base-uncased')"
      ],
      "metadata": {
        "trusted": true,
        "id": "LN9MhxEv6OCG"
      },
      "execution_count": null,
      "outputs": []
    },
    {
      "cell_type": "code",
      "source": [
        "# # Function to get BERT embeddings\n",
        "# def get_bert_embedding(text):\n",
        "#     input_ids = tokenizer.encode(text, add_special_tokens=True)\n",
        "#     input_ids = torch.tensor([input_ids])\n",
        "#     with torch.no_grad():\n",
        "#         outputs = model(input_ids)\n",
        "#         last_hidden_states = outputs.last_hidden_state\n",
        "#     return last_hidden_states[0][0].numpy() # Get the [CLS] token embedding\n",
        "\n",
        "# train_features = np.array([get_bert_embedding(text) for text in train_texts])\n",
        "# val_features = np.array([get_bert_embedding(text) for text in val_texts])"
      ],
      "metadata": {
        "trusted": true,
        "id": "-qk82doZ6OCG"
      },
      "execution_count": null,
      "outputs": []
    },
    {
      "cell_type": "markdown",
      "source": [
        "# **DATA Shape**"
      ],
      "metadata": {
        "id": "Dgq-K1vb6OCH"
      }
    },
    {
      "cell_type": "code",
      "source": [
        "# train_features.shape,train_features[0].shape,val_features.shape,val_features[0].shape"
      ],
      "metadata": {
        "execution": {
          "iopub.status.busy": "2024-06-07T20:20:54.461618Z",
          "iopub.execute_input": "2024-06-07T20:20:54.462069Z",
          "iopub.status.idle": "2024-06-07T20:20:54.4708Z",
          "shell.execute_reply.started": "2024-06-07T20:20:54.462033Z",
          "shell.execute_reply": "2024-06-07T20:20:54.469548Z"
        },
        "trusted": true,
        "id": "Le2CKOnq6OCH",
        "outputId": "2446ceab-135d-4664-b2a9-7ee1dac8669a"
      },
      "execution_count": null,
      "outputs": [
        {
          "execution_count": 15,
          "output_type": "execute_result",
          "data": {
            "text/plain": "((13845, 5000), (1, 5000), (3462, 5000), (1, 5000))"
          },
          "metadata": {}
        }
      ]
    },
    {
      "cell_type": "markdown",
      "source": [],
      "metadata": {
        "id": "ABjnR0fp6OCH"
      }
    },
    {
      "cell_type": "markdown",
      "source": [
        "# **LogisticRegression**"
      ],
      "metadata": {
        "id": "u70gLcZR6OCH"
      }
    },
    {
      "cell_type": "code",
      "source": [
        "# # Train a logistic regression model\n",
        "# model = LogisticRegression(max_iter=1000, random_state=42)\n",
        "# model.fit(train_features, train_scores)\n",
        "\n",
        "# # Make predictions on the validation set\n",
        "# val_predictions = model.predict(val_features)\n",
        "\n",
        "# # Evaluate the model using quadratic weighted kappa\n",
        "# kappa = cohen_kappa_score(val_scores, val_predictions, weights='quadratic')\n",
        "# print(f'Quadratic Weighted Kappa: {kappa:.4f}')"
      ],
      "metadata": {
        "trusted": true,
        "id": "GWggzXAv6OCI"
      },
      "execution_count": null,
      "outputs": []
    },
    {
      "cell_type": "markdown",
      "source": [
        "# **SVC**"
      ],
      "metadata": {
        "id": "2d4hBd-n6OCI"
      }
    },
    {
      "cell_type": "code",
      "source": [
        "# from sklearn.svm import LinearSVC  # For linear SVM\n",
        "# from sklearn.svm import SVC  # For non-linear SVM\n",
        "\n",
        "# model = LinearSVC(max_iter=1000, random_state=42)\n",
        "# # model = SVC(kernel='rbf', random_state=42) # For non-linear\n",
        "# model.fit(train_features, train_scores)\n",
        "# val_predictions = model.predict(val_features)\n",
        "\n",
        "# # Evaluate the model using quadratic weighted kappa\n",
        "# kappa = cohen_kappa_score(val_scores, val_predictions, weights='quadratic')\n",
        "# print(f'Quadratic Weighted Kappa: {kappa:.4f}')"
      ],
      "metadata": {
        "execution": {
          "iopub.status.busy": "2024-06-08T16:31:06.389709Z",
          "iopub.execute_input": "2024-06-08T16:31:06.390146Z",
          "iopub.status.idle": "2024-06-08T16:31:50.754549Z",
          "shell.execute_reply.started": "2024-06-08T16:31:06.390088Z",
          "shell.execute_reply": "2024-06-08T16:31:50.752973Z"
        },
        "trusted": true,
        "id": "-iHJjE_b6OCI",
        "outputId": "817a57fd-32c9-4dd3-fe17-c67209ef49c7"
      },
      "execution_count": null,
      "outputs": [
        {
          "name": "stdout",
          "text": "Quadratic Weighted Kappa: 0.5302\n",
          "output_type": "stream"
        },
        {
          "name": "stderr",
          "text": "/opt/conda/lib/python3.10/site-packages/sklearn/svm/_base.py:1244: ConvergenceWarning: Liblinear failed to converge, increase the number of iterations.\n  warnings.warn(\n",
          "output_type": "stream"
        }
      ]
    },
    {
      "cell_type": "markdown",
      "source": [
        "# **RandomForestClassifier**"
      ],
      "metadata": {
        "id": "LR4OYrZf6OCJ"
      }
    },
    {
      "cell_type": "code",
      "source": [
        "# from sklearn.ensemble import RandomForestClassifier\n",
        "\n",
        "# model = RandomForestClassifier(n_estimators=100, random_state=42)\n",
        "# model.fit(train_features, train_scores)\n",
        "# val_predictions = model.predict(val_features)\n",
        "# # Evaluate the model using quadratic weighted kappa\n",
        "# kappa = cohen_kappa_score(val_scores, val_predictions, weights='quadratic')\n",
        "# print(f'Quadratic Weighted Kappa: {kappa:.4f}')"
      ],
      "metadata": {
        "execution": {
          "iopub.status.busy": "2024-06-08T16:39:06.710091Z",
          "iopub.execute_input": "2024-06-08T16:39:06.710537Z",
          "iopub.status.idle": "2024-06-08T16:39:52.950918Z",
          "shell.execute_reply.started": "2024-06-08T16:39:06.710504Z",
          "shell.execute_reply": "2024-06-08T16:39:52.949552Z"
        },
        "trusted": true,
        "id": "ObP1TJOi6OCK",
        "outputId": "8a45d276-2414-4ae1-d09a-02b72ca384de"
      },
      "execution_count": null,
      "outputs": [
        {
          "name": "stdout",
          "text": "Quadratic Weighted Kappa: 0.6334\n",
          "output_type": "stream"
        }
      ]
    },
    {
      "cell_type": "markdown",
      "source": [
        "# **LSTM**"
      ],
      "metadata": {
        "id": "7t_eV2i36OCK"
      }
    },
    {
      "cell_type": "code",
      "source": [
        "import pandas as pd\n",
        "import numpy as np\n",
        "from sklearn.model_selection import train_test_split\n",
        "from tensorflow.keras.preprocessing.text import Tokenizer\n",
        "from tensorflow.keras.preprocessing.sequence import pad_sequences\n",
        "from tensorflow.keras.models import Sequential\n",
        "from tensorflow.keras.layers import Embedding, LSTM, Dense, Dropout\n",
        "from tensorflow.keras.optimizers import Adam\n",
        "from tensorflow.keras.callbacks import EarlyStopping\n",
        "\n",
        "# Load your data\n",
        "Train_df = train_df\n",
        "\n",
        "# Preprocess text data\n",
        "# 1. Tokenization\n",
        "tokenizer = Tokenizer(num_words=5000)  # Adjust num_words as needed\n",
        "tokenizer.fit_on_texts(Train_df['full_text'])\n",
        "sequences = tokenizer.texts_to_sequences(Train_df['full_text'])\n",
        "\n",
        "# 2. Padding\n",
        "max_length = 800  # Adjust max_length as needed\n",
        "padded_sequences = pad_sequences(sequences, maxlen=max_length, padding='post', truncating='post')\n",
        "\n",
        "# 3. Split into train and test sets\n",
        "X_train, X_test, y_train, y_test = train_test_split(padded_sequences, Train_df['score'], test_size=0.2)\n",
        "\n",
        "# Normalize scores (if they are 1, 2, ..., 6)\n",
        "y_train = y_train - 1\n",
        "y_test = y_test - 1\n",
        "\n",
        "# Create the model\n",
        "vocab_size = len(tokenizer.word_index) + 1\n",
        "embedding_dim = 100\n",
        "\n",
        "model = Sequential()\n",
        "model.add(Embedding(vocab_size, embedding_dim, input_length=max_length))\n",
        "model.add(LSTM(128, return_sequences=True))\n",
        "model.add(Dropout(0.5))\n",
        "model.add(LSTM(64))\n",
        "model.add(Dropout(0.2))\n",
        "model.add(Dense(6, activation='softmax'))\n",
        "\n",
        "model.compile(optimizer='adam',\n",
        "              loss='sparse_categorical_crossentropy',  # For categorical scores\n",
        "              metrics=['accuracy'])\n",
        "\n",
        "# Early Stopping\n",
        "early_stopping = EarlyStopping(monitor='val_loss', patience=3, restore_best_weights=True)\n",
        "\n",
        "# Train the model\n",
        "model.fit(X_train, y_train, epochs=10, batch_size=32, validation_data=(X_test, y_test),\n",
        "          callbacks=[early_stopping])\n",
        "\n",
        "# Evaluate the model\n",
        "loss, accuracy = model.evaluate(X_test, y_test)\n",
        "print(f'Test Loss: {loss}')\n",
        "print(f'Test Accuracy: {accuracy}')"
      ],
      "metadata": {
        "execution": {
          "iopub.status.busy": "2024-06-08T17:26:17.451163Z",
          "iopub.execute_input": "2024-06-08T17:26:17.451517Z"
        },
        "trusted": true,
        "id": "xi_5gKf16OCL",
        "outputId": "5ab9ec2a-c780-4b0b-9134-bf631dee6fae"
      },
      "execution_count": null,
      "outputs": [
        {
          "name": "stderr",
          "text": "2024-06-08 17:26:19.766581: E external/local_xla/xla/stream_executor/cuda/cuda_dnn.cc:9261] Unable to register cuDNN factory: Attempting to register factory for plugin cuDNN when one has already been registered\n2024-06-08 17:26:19.766681: E external/local_xla/xla/stream_executor/cuda/cuda_fft.cc:607] Unable to register cuFFT factory: Attempting to register factory for plugin cuFFT when one has already been registered\n2024-06-08 17:26:19.903377: E external/local_xla/xla/stream_executor/cuda/cuda_blas.cc:1515] Unable to register cuBLAS factory: Attempting to register factory for plugin cuBLAS when one has already been registered\n/opt/conda/lib/python3.10/site-packages/keras/src/layers/core/embedding.py:90: UserWarning: Argument `input_length` is deprecated. Just remove it.\n  warnings.warn(\n",
          "output_type": "stream"
        },
        {
          "name": "stdout",
          "text": "Epoch 1/10\n\u001b[1m433/433\u001b[0m \u001b[32m━━━━━━━━━━━━━━━━━━━━\u001b[0m\u001b[37m\u001b[0m \u001b[1m42s\u001b[0m 83ms/step - accuracy: 0.3536 - loss: 1.4846 - val_accuracy: 0.3749 - val_loss: 1.4337\nEpoch 2/10\n\u001b[1m433/433\u001b[0m \u001b[32m━━━━━━━━━━━━━━━━━━━━\u001b[0m\u001b[37m\u001b[0m \u001b[1m36s\u001b[0m 82ms/step - accuracy: 0.3629 - loss: 1.4383 - val_accuracy: 0.3752 - val_loss: 1.4300\nEpoch 3/10\n\u001b[1m433/433\u001b[0m \u001b[32m━━━━━━━━━━━━━━━━━━━━\u001b[0m\u001b[37m\u001b[0m \u001b[1m36s\u001b[0m 82ms/step - accuracy: 0.3869 - loss: 1.3471 - val_accuracy: 0.5404 - val_loss: 1.1295\nEpoch 4/10\n\u001b[1m433/433\u001b[0m \u001b[32m━━━━━━━━━━━━━━━━━━━━\u001b[0m\u001b[37m\u001b[0m \u001b[1m36s\u001b[0m 83ms/step - accuracy: 0.5333 - loss: 1.1001 - val_accuracy: 0.5621 - val_loss: 1.0171\nEpoch 5/10\n\u001b[1m433/433\u001b[0m \u001b[32m━━━━━━━━━━━━━━━━━━━━\u001b[0m\u001b[37m\u001b[0m \u001b[1m36s\u001b[0m 83ms/step - accuracy: 0.5704 - loss: 1.0311 - val_accuracy: 0.5350 - val_loss: 1.0525\nEpoch 6/10\n\u001b[1m219/433\u001b[0m \u001b[32m━━━━━━━━━━\u001b[0m\u001b[37m━━━━━━━━━━\u001b[0m \u001b[1m16s\u001b[0m 75ms/step - accuracy: 0.5928 - loss: 1.0002",
          "output_type": "stream"
        }
      ]
    },
    {
      "cell_type": "code",
      "source": [
        "# val_predictions = model.predict_classes(val_features)\n",
        "# Prepare the test data for prediction\n",
        "test_features = vectorizer.transform(test_df['full_text'])\n",
        "\n",
        "# Make predictions on the test data\n",
        "test_predictions = model.predict(test_features)\n",
        "\n",
        "# Create a submission file\n",
        "submission_df = pd.DataFrame({'essay_id': test_df['essay_id'], 'score': test_predictions})\n",
        "submission_df.to_csv('submission.csv', index=False)\n",
        "\n",
        "print(\"Submission file created successfully!\")"
      ],
      "metadata": {
        "execution": {
          "iopub.status.busy": "2024-06-08T16:40:36.595151Z",
          "iopub.execute_input": "2024-06-08T16:40:36.595557Z",
          "iopub.status.idle": "2024-06-08T16:40:36.617889Z",
          "shell.execute_reply.started": "2024-06-08T16:40:36.595525Z",
          "shell.execute_reply": "2024-06-08T16:40:36.616625Z"
        },
        "trusted": true,
        "id": "mrA9C_Nv6OCM",
        "outputId": "1e84aceb-66e2-4a0c-81ed-8ef262f46c94"
      },
      "execution_count": null,
      "outputs": [
        {
          "name": "stdout",
          "text": "Submission file created successfully!\n",
          "output_type": "stream"
        }
      ]
    }
  ]
}